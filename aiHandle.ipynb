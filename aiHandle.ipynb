{
 "cells": [
  {
   "cell_type": "code",
   "execution_count": 1,
   "metadata": {},
   "outputs": [],
   "source": [
    "from database_util import connect_db, get_uncleaned_html_records, update_cleaned_html\n",
    "\n",
    "def gethtml(tender_id):\n",
    "    # 连接数据库\n",
    "    db = connect_db()\n",
    "    if db is None:\n",
    "        print(\"Failed to connect to the database.\")\n",
    "        return\n",
    "    # 创建游标\n",
    "    cursor = db.cursor()\n",
    "    # 获取当前tender_id下，tender_detail_html表中的cleaned_detail_html字段\n",
    "    cursor.execute(\"SELECT tender_id, cleaned_detail_html FROM tender_detail_html WHERE tender_id = %s\", (tender_id,))\n",
    "    result = cursor.fetchone()\n",
    "    # print(result)\n",
    "    print(\"LOAD SQL SUCCESS\")\n",
    "    # 关闭游标和数据库连接\n",
    "    cursor.close()\n",
    "    db.close()\n",
    "    if result is not None:\n",
    "        return result[1]\n",
    "        print(\"SQL gethtml\"+tender_id+\" SUCCESS AND CLOSED\")\n",
    "    else:\n",
    "        return None"
   ]
  },
  {
   "cell_type": "code",
   "execution_count": 25,
   "metadata": {},
   "outputs": [
    {
     "name": "stdout",
     "output_type": "stream",
     "text": [
      "LOAD SQL SUCCESS\n"
     ]
    }
   ],
   "source": [
    "tt = gethtml(92)"
   ]
  },
  {
   "cell_type": "code",
   "execution_count": 38,
   "metadata": {},
   "outputs": [],
   "source": [
    "from zhipuai import ZhipuAI\n",
    "import json\n",
    "import re\n",
    "\n",
    "def getFormatedData(cleanedHtml):\n",
    "    client = ZhipuAI(api_key=\"8d55d03f87e0ff621db27c37325c516d.4Ck0uvE4M1xYW8HB\")\n",
    "    response = client.chat.completions.create(\n",
    "    model=\"glm-4\", \n",
    "    messages=[\n",
    "         {\"role\": \"user\", \"content\": f\"请根据以下清洗后的招标公告内容，提取招标相关的全部信息，并以键值对的形式返回这些信息。我需要以下字段：tender_id, tender_document_start_time, tender_document_end_time, question_deadline, answer_announcement_time, bid_submission_deadline, bid_opening_time, tenderer, tender_contact, contact_phone, tender_agency, tender_agency_contact, tender_agency_contact_phone, supervision_qualification_requirement, business_license_requirement, chief_supervisor_qualification_requirement, consortium_bidding_requirement, project_name, investment_project_code, tender_project_name, implementation_site, funding_source, tender_scope_and_scale, duration, maximum_bid_price, qualification_review_method。这些字段的内容是：{cleanedHtml}。请以以下的JSON格式返回结果：{{\\\"tender_id\\\": \\\"\\\", \\\"tender_document_start_time\\\": \\\"\\\", \\\"tender_document_end_time\\\": \\\"\\\", \\\"question_deadline\\\": \\\"\\\", \\\"answer_announcement_time\\\": \\\"\\\", \\\"bid_submission_deadline\\\": \\\"\\\", \\\"bid_opening_time\\\": \\\"\\\", \\\"tenderer\\\": \\\"\\\", \\\"tender_contact\\\": \\\"\\\", \\\"contact_phone\\\": \\\"\\\", \\\"tender_agency\\\": \\\"\\\", \\\"tender_agency_contact\\\": \\\"\\\", \\\"tender_agency_contact_phone\\\": \\\"\\\", \\\"supervision_qualification_requirement\\\": \\\"\\\", \\\"business_license_requirement\\\": \\\"\\\", \\\"chief_supervisor_qualification_requirement\\\": \\\"\\\", \\\"consortium_bidding_requirement\\\": \\\"\\\", \\\"project_name\\\": \\\"\\\", \\\"investment_project_code\\\": \\\"\\\", \\\"tender_project_name\\\": \\\"\\\", \\\"implementation_site\\\": \\\"\\\", \\\"funding_source\\\": \\\"\\\", \\\"tender_scope_and_scale\\\": \\\"\\\", \\\"duration\\\": \\\"\\\", \\\"maximum_bid_price\\\": \\\"\\\", \\\"qualification_review_method\\\": \\\"\\\"}}。请注意，返回的结果应该是一个有效的JSON字符串，不应该包含任何特殊字符，不出现注释。某些值不存在或者没有提供则默认将这些值留空\"}\n",
    "    ],\n",
    "    top_p=0.7,\n",
    "    temperature=0.2,\n",
    "    max_tokens=4096,\n",
    "    )\n",
    "    # print(response.choices[0].message\n",
    "\n",
    "    # 获取message的内容\n",
    "    message_content = response.choices[0].message.content\n",
    "    # print(message_content)\n",
    "\n",
    "    # 去掉message_content中的特殊字符\n",
    "    message_content_cleaned = message_content.split('```json')[1]\n",
    "    # 去掉message_content中的特殊字符\n",
    "    message_content_cleaned = message_content_cleaned.replace('\\n', '').replace('\\\\', '').replace('`', '')\n",
    "    \n",
    "    # 使用正则表达式找到所有的注释\n",
    "    comments = re.findall(r'//[^\"\\n]*', message_content_cleaned)\n",
    "    # 使用正则表达式替换掉注释的 \"//\" 和其后的文字\n",
    "    message_content_cleaned = re.sub(r'//[^\"\\n]*', '', message_content_cleaned)\n",
    "    # 打印日志\n",
    "    for comment in comments:\n",
    "        print(f\"Successfully removed comment: {comment}\")\n",
    "\n",
    "    # 将空值替换为null\n",
    "    # message_content_cleaned = message_content_cleaned.replace(': \"\",', ': null,')\n",
    "    # 找到最外层的 }\n",
    "    count = 0\n",
    "    for i, char in enumerate(message_content_cleaned):\n",
    "        if char == '{':\n",
    "            count += 1\n",
    "        elif char == '}':\n",
    "            count -= 1\n",
    "            if count == 0:\n",
    "                message_content_cleaned = message_content_cleaned[:i+1]\n",
    "                break\n",
    "\n",
    "    # 定义formatedData\n",
    "    formatedData = None\n",
    "\n",
    "    # 检查message_content_cleaned是否为空\n",
    "    if not message_content_cleaned:\n",
    "        print(\"Error: message_content_cleaned is empty.\")\n",
    "        return None\n",
    "    else:\n",
    "        # 使用json.loads将清洗后的字符串转换为字典\n",
    "        try:\n",
    "            formatedData = json.loads(message_content_cleaned)\n",
    "        except json.JSONDecodeError as e:\n",
    "            print(f\"Error: failed to parse JSON: {message_content_cleaned}\")\n",
    "            print(f\"JSONDecodeError: {e}\")\n",
    "        except Exception as e:\n",
    "            print(f\"An unexpected error occurred: {e}\")\n",
    "\n",
    "    # 打印出data\n",
    "    print(\"FORMATED DATA DONE,DATA:\" + json.dumps(formatedData))\n",
    "    return formatedData"
   ]
  },
  {
   "cell_type": "code",
   "execution_count": 39,
   "metadata": {},
   "outputs": [
    {
     "name": "stdout",
     "output_type": "stream",
     "text": [
      "以下是提取的招标相关信息，以键值对的形式返回：\n",
      "\n",
      "```json\n",
      "{\n",
      "  \"tender_id\": \"2311-440311-04-01-168623005\",\n",
      "  \"tender_document_start_time\": \"2024-02-23 09:00\",\n",
      "  \"tender_document_end_time\": \"2024-02-29 18:00\",\n",
      "  \"question_deadline\": \"2024-02-26 17:00\",\n",
      "  \"answer_announcement_time\": \"2024-02-27 17:00\",\n",
      "  \"bid_submission_deadline\": \"\", // 未提供具体时间\n",
      "  \"bid_opening_time\": \"\", // 未提供具体时间\n",
      "  \"tenderer\": \"深圳市光明区凤凰街道办事处\",\n",
      "  \"tender_contact\": \"梁慧杰\",\n",
      "  \"contact_phone\": \"0755-23195970\",\n",
      "  \"tender_agency\": \"深圳市德顺项目咨询有限公司\",\n",
      "  \"tender_agency_contact\": \"郑工\",\n",
      "  \"tender_agency_contact_phone\": \"13691981533\",\n",
      "  \"supervision_qualification_requirement\": \"房屋建筑工程监理乙级及以上或监理综合资质\",\n",
      "  \"business_license_requirement\": \"\", // 未提供相关信息\n",
      "  \"chief_supervisor_qualification_requirement\": \"国家注册监理工程师（房屋建筑工程专业）\",\n",
      "  \"consortium_bidding_requirement\": \"否\",\n",
      "  \"project_name\": \"金洪大厦提升改造工程项目\",\n",
      "  \"investment_project_code\": \"2311-440311-04-01-168623\",\n",
      "  \"tender_project_name\": \"金洪大厦提升改造工程项目监理\",\n",
      "  \"implementation_site\": \"深圳市光明区\",\n",
      "  \"funding_source\": \"政府:100.0;国有:0.0;集体:0.0;私营:0.0;外资:0.0;其他:0.0\",\n",
      "  \"tender_scope_and_scale\": \"室内装饰工程：本次招标内容包括但不限于：对承包单位在施工质量、建设工期和建设资金使用等方面实施监督，对本工程施工阶段、保修阶段实行监理。\",\n",
      "  \"duration\": \"2024-03-20 00:00:00.0 至 2026-08-17 00:00:00.0\",\n",
      "  \"maximum_bid_price\": \"128.75 万元\",\n",
      "  \"qualification_review_method\": \"定性评审法\"\n",
      "}\n",
      "```\n",
      "\n",
      "请注意，对于未提供的信息，我已经留空了对应的值。如果需要，可以进一步与招标方联系以获取缺失的信息。\n",
      "Successfully removed comment: // 未提供具体时间  \n",
      "Successfully removed comment: // 未提供具体时间  \n",
      "Successfully removed comment: // 未提供相关信息  \n",
      "FORMATED DATA DONE,DATA:{\"tender_id\": \"2311-440311-04-01-168623005\", \"tender_document_start_time\": \"2024-02-23 09:00\", \"tender_document_end_time\": \"2024-02-29 18:00\", \"question_deadline\": \"2024-02-26 17:00\", \"answer_announcement_time\": \"2024-02-27 17:00\", \"bid_submission_deadline\": \"\", \"bid_opening_time\": \"\", \"tenderer\": \"\\u6df1\\u5733\\u5e02\\u5149\\u660e\\u533a\\u51e4\\u51f0\\u8857\\u9053\\u529e\\u4e8b\\u5904\", \"tender_contact\": \"\\u6881\\u6167\\u6770\", \"contact_phone\": \"0755-23195970\", \"tender_agency\": \"\\u6df1\\u5733\\u5e02\\u5fb7\\u987a\\u9879\\u76ee\\u54a8\\u8be2\\u6709\\u9650\\u516c\\u53f8\", \"tender_agency_contact\": \"\\u90d1\\u5de5\", \"tender_agency_contact_phone\": \"13691981533\", \"supervision_qualification_requirement\": \"\\u623f\\u5c4b\\u5efa\\u7b51\\u5de5\\u7a0b\\u76d1\\u7406\\u4e59\\u7ea7\\u53ca\\u4ee5\\u4e0a\\u6216\\u76d1\\u7406\\u7efc\\u5408\\u8d44\\u8d28\", \"business_license_requirement\": \"\", \"chief_supervisor_qualification_requirement\": \"\\u56fd\\u5bb6\\u6ce8\\u518c\\u76d1\\u7406\\u5de5\\u7a0b\\u5e08\\uff08\\u623f\\u5c4b\\u5efa\\u7b51\\u5de5\\u7a0b\\u4e13\\u4e1a\\uff09\", \"consortium_bidding_requirement\": \"\\u5426\", \"project_name\": \"\\u91d1\\u6d2a\\u5927\\u53a6\\u63d0\\u5347\\u6539\\u9020\\u5de5\\u7a0b\\u9879\\u76ee\", \"investment_project_code\": \"2311-440311-04-01-168623\", \"tender_project_name\": \"\\u91d1\\u6d2a\\u5927\\u53a6\\u63d0\\u5347\\u6539\\u9020\\u5de5\\u7a0b\\u9879\\u76ee\\u76d1\\u7406\", \"implementation_site\": \"\\u6df1\\u5733\\u5e02\\u5149\\u660e\\u533a\", \"funding_source\": \"\\u653f\\u5e9c:100.0;\\u56fd\\u6709:0.0;\\u96c6\\u4f53:0.0;\\u79c1\\u8425:0.0;\\u5916\\u8d44:0.0;\\u5176\\u4ed6:0.0\", \"tender_scope_and_scale\": \"\\u5ba4\\u5185\\u88c5\\u9970\\u5de5\\u7a0b\\uff1a\\u672c\\u6b21\\u62db\\u6807\\u5185\\u5bb9\\u5305\\u62ec\\u4f46\\u4e0d\\u9650\\u4e8e\\uff1a\\u5bf9\\u627f\\u5305\\u5355\\u4f4d\\u5728\\u65bd\\u5de5\\u8d28\\u91cf\\u3001\\u5efa\\u8bbe\\u5de5\\u671f\\u548c\\u5efa\\u8bbe\\u8d44\\u91d1\\u4f7f\\u7528\\u7b49\\u65b9\\u9762\\u5b9e\\u65bd\\u76d1\\u7763\\uff0c\\u5bf9\\u672c\\u5de5\\u7a0b\\u65bd\\u5de5\\u9636\\u6bb5\\u3001\\u4fdd\\u4fee\\u9636\\u6bb5\\u5b9e\\u884c\\u76d1\\u7406\\u3002\", \"duration\": \"2024-03-20 00:00:00.0 \\u81f3 2026-08-17 00:00:00.0\", \"maximum_bid_price\": \"128.75 \\u4e07\\u5143\", \"qualification_review_method\": \"\\u5b9a\\u6027\\u8bc4\\u5ba1\\u6cd5\"}\n"
     ]
    }
   ],
   "source": [
    "ttt = getFormatedData(tt)"
   ]
  },
  {
   "cell_type": "code",
   "execution_count": 26,
   "metadata": {},
   "outputs": [],
   "source": [
    "def insert_into_tender_detail(cursor, data):\n",
    "    # 获取字段名和值\n",
    "    fields = ', '.join(data.keys())\n",
    "    values = ', '.join(['%s'] * len(data))\n",
    "\n",
    "    # 创建占位符字符串\n",
    "    placeholders = ', '.join(['%s'] * len(data))\n",
    "    \n",
    "    # 创建INSERT SQL语句\n",
    "    insert_query = f\"\"\"INSERT INTO tender_detail ({fields}) VALUES ({values})\"\"\"\n",
    "    \n",
    "    # 执行SQL语句\n",
    "    cursor.execute(insert_query, list(data.values()))\n",
    "    print(\"insert：\"+insert_query)\n",
    "\n",
    "def insertTenderDetail(tender_id, formatedData):\n",
    "    # 连接数据库\n",
    "    with connect_db() as db:\n",
    "        if db is None:\n",
    "            print(\"Failed to connect to the database.\")\n",
    "            return\n",
    "\n",
    "         # 检查formatedData是否为None\n",
    "        if formatedData is None:\n",
    "            print(\"Error: formatedData is None.\")\n",
    "            return\n",
    "        \n",
    "        # 添加tender_id到formatedData字典中\n",
    "        formatedData['tender_id'] = tender_id\n",
    "\n",
    "        # 创建游标\n",
    "        with db.cursor() as cursor:\n",
    "            # 插入数据\n",
    "            insert_into_tender_detail(cursor, formatedData)\n",
    "            print(\"insert_into_tender_detail\")\n",
    "            # 提交事务\n",
    "            db.commit()\n",
    "\n"
   ]
  },
  {
   "cell_type": "code",
   "execution_count": 27,
   "metadata": {},
   "outputs": [
    {
     "name": "stdout",
     "output_type": "stream",
     "text": [
      "insert：INSERT INTO tender_detail (tender_id, tender_document_start_time, tender_document_end_time, question_deadline, answer_announcement_time, bid_submission_deadline, bid_opening_time, tenderer, tender_contact, contact_phone, tender_agency, tender_agency_contact, tender_agency_contact_phone, supervision_qualification_requirement, business_license_requirement, chief_supervisor_qualification_requirement, consortium_bidding_requirement, project_name, investment_project_code, tender_project_name, implementation_site, funding_source, tender_scope_and_scale, duration, maximum_bid_price, qualification_review_method) VALUES (%s, %s, %s, %s, %s, %s, %s, %s, %s, %s, %s, %s, %s, %s, %s, %s, %s, %s, %s, %s, %s, %s, %s, %s, %s, %s)\n",
      "insert_into_tender_detail\n"
     ]
    }
   ],
   "source": [
    "insertTenderDetail(97, ttt)"
   ]
  },
  {
   "cell_type": "code",
   "execution_count": null,
   "metadata": {},
   "outputs": [],
   "source": [
    "\n",
    "# 使用gethtml(18)函数的返回值作为getFormatedData函数的输入\n",
    "cleanedHtml = gethtml(97)\n",
    "if cleanedHtml is not None:\n",
    "    formatedData = getFormatedData(cleanedHtml)\n",
    "    insertTenderDetail(97, formatedData)"
   ]
  }
 ],
 "metadata": {
  "kernelspec": {
   "display_name": "lcpython11",
   "language": "python",
   "name": "python3"
  },
  "language_info": {
   "codemirror_mode": {
    "name": "ipython",
    "version": 3
   },
   "file_extension": ".py",
   "mimetype": "text/x-python",
   "name": "python",
   "nbconvert_exporter": "python",
   "pygments_lexer": "ipython3",
   "version": "3.11.7"
  }
 },
 "nbformat": 4,
 "nbformat_minor": 2
}
