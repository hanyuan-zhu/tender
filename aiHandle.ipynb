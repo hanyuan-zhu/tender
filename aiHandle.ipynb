{
 "cells": [
  {
   "cell_type": "code",
   "execution_count": 2,
   "metadata": {},
   "outputs": [],
   "source": [
    "from database_util import connect_db, get_uncleaned_html_records, update_cleaned_html\n",
    "\n",
    "def gethtml(tender_id):\n",
    "    # 连接数据库\n",
    "    db = connect_db()\n",
    "    if db is None:\n",
    "        print(\"Failed to connect to the database.\")\n",
    "        return\n",
    "    # 创建游标\n",
    "    cursor = db.cursor()\n",
    "    # 获取当前tender_id下，tender_detail_html表中的cleaned_detail_html字段\n",
    "    cursor.execute(\"SELECT tender_id, cleaned_detail_html FROM tender_detail_html WHERE tender_id = %s\", (tender_id,))\n",
    "    result = cursor.fetchone()\n",
    "    # print(result)\n",
    "    print(\"LOAD SQL SUCCESS\")\n",
    "    # 关闭游标和数据库连接\n",
    "    cursor.close()\n",
    "    db.close()\n",
    "    if result is not None:\n",
    "        return result[1]\n",
    "        print(\"SQL gethtml\"+tender_id+\" SUCCESS AND CLOSED\")\n",
    "    else:\n",
    "        return None"
   ]
  },
  {
   "cell_type": "code",
   "execution_count": 9,
   "metadata": {},
   "outputs": [
    {
     "name": "stdout",
     "output_type": "stream",
     "text": [
      "LOAD SQL SUCCESS\n"
     ]
    }
   ],
   "source": [
    "tt = gethtml(23)"
   ]
  },
  {
   "cell_type": "code",
   "execution_count": 13,
   "metadata": {},
   "outputs": [],
   "source": [
    "from zhipuai import ZhipuAI\n",
    "import json\n",
    "\n",
    "def getFormatedData(cleanedHtml):\n",
    "    client = ZhipuAI(api_key=\"8d55d03f87e0ff621db27c37325c516d.4Ck0uvE4M1xYW8HB\")\n",
    "    response = client.chat.completions.create(\n",
    "    model=\"glm-4\", \n",
    "    messages=[\n",
    "         {\"role\": \"user\", \"content\": f\"请根据以下清洗后的招标公告内容，提取招标相关的全部信息，并以键值对的形式返回这些信息。我需要以下字段：tender_id, tender_document_start_time, tender_document_end_time, question_deadline, answer_announcement_time, bid_submission_deadline, bid_opening_time, tenderer, tender_contact, contact_phone, tender_agency, tender_agency_contact, tender_agency_contact_phone, supervision_qualification_requirement, business_license_requirement, chief_supervisor_qualification_requirement, consortium_bidding_requirement, project_name, investment_project_code, tender_project_name, implementation_site, funding_source, tender_scope_and_scale, duration, maximum_bid_price, qualification_review_method。这些字段的内容是：{cleanedHtml}。请以以下的JSON格式返回结果：{{\\\"tender_id\\\": \\\"\\\", \\\"tender_document_start_time\\\": \\\"\\\", \\\"tender_document_end_time\\\": \\\"\\\", \\\"question_deadline\\\": \\\"\\\", \\\"answer_announcement_time\\\": \\\"\\\", \\\"bid_submission_deadline\\\": \\\"\\\", \\\"bid_opening_time\\\": \\\"\\\", \\\"tenderer\\\": \\\"\\\", \\\"tender_contact\\\": \\\"\\\", \\\"contact_phone\\\": \\\"\\\", \\\"tender_agency\\\": \\\"\\\", \\\"tender_agency_contact\\\": \\\"\\\", \\\"tender_agency_contact_phone\\\": \\\"\\\", \\\"supervision_qualification_requirement\\\": \\\"\\\", \\\"business_license_requirement\\\": \\\"\\\", \\\"chief_supervisor_qualification_requirement\\\": \\\"\\\", \\\"consortium_bidding_requirement\\\": \\\"\\\", \\\"project_name\\\": \\\"\\\", \\\"investment_project_code\\\": \\\"\\\", \\\"tender_project_name\\\": \\\"\\\", \\\"implementation_site\\\": \\\"\\\", \\\"funding_source\\\": \\\"\\\", \\\"tender_scope_and_scale\\\": \\\"\\\", \\\"duration\\\": \\\"\\\", \\\"maximum_bid_price\\\": \\\"\\\", \\\"qualification_review_method\\\": \\\"\\\"}}\"}\n",
    "    ],\n",
    "    top_p=0.7,\n",
    "    temperature=0.2,\n",
    "    max_tokens=4096,\n",
    "    )\n",
    "    # print(response.choices[0].message)\n",
    "\n",
    "    # 获取message的内容\n",
    "    message_content = response.choices[0].message.content\n",
    "\n",
    "    # 去掉message_content中的特殊字符\n",
    "    message_content_cleaned = message_content.replace('\\n', '').replace('\\\\', '')\n",
    "\n",
    "    # 检查message_content_cleaned是否为空\n",
    "    if not message_content_cleaned:\n",
    "        print(\"Error: message_content_cleaned is empty.\")\n",
    "        return None\n",
    "\n",
    "    # 使用json.loads将清洗后的字符串转换为字典\n",
    "    try:\n",
    "        formatedData = json.loads(message_content_cleaned)\n",
    "    except json.JSONDecodeError as e:\n",
    "        print(f\"Error: failed to parse JSON: {message_content_cleaned}\")\n",
    "        print(f\"JSONDecodeError: {e}\")\n",
    "        return None\n",
    "    except Exception as e:\n",
    "        print(f\"An unexpected error occurred: {e}\")\n",
    "        return None\n",
    "\n",
    "    # 打印出data\n",
    "    print(\"FORMATED DATA DONE,DATA:\" + json.dumps(formatedData))\n",
    "    return formatedData"
   ]
  },
  {
   "cell_type": "code",
   "execution_count": 16,
   "metadata": {},
   "outputs": [
    {
     "name": "stdout",
     "output_type": "stream",
     "text": [
      "FORMATED DATA DONE,DATA:{\"tender_id\": \"2201-442000-04-01-707876\", \"tender_document_start_time\": \"2024-02-08 17:30\", \"tender_document_end_time\": \"2024-02-26 17:30\", \"question_deadline\": \"2024-02-27 17:00\", \"answer_announcement_time\": \"2024-03-01 17:30\", \"bid_submission_deadline\": \"2024-03-04 17:00\", \"bid_opening_time\": \"2024-03-18 09:30\", \"tenderer\": \"\\u4e2d\\u5c71\\u5e02\\u4ee3\\u5efa\\u9879\\u76ee\\u7ba1\\u7406\\u529e\\u516c\\u5ba4\", \"tender_contact\": \"\\u5218\\u654f\\u6167\", \"contact_phone\": \"0760-88232389\", \"tender_agency\": \"\\u5e7f\\u4e1c\\u730e\\u5fb7\\u5de5\\u7a0b\\u54a8\\u8be2\\u6709\\u9650\\u516c\\u53f8\", \"tender_agency_contact\": \"\\u5218\\u707f\\u6d2a\\u3001\\u4f55\\u6797\\u6842\", \"tender_agency_contact_phone\": \"0760-89993221\\u300115876098160\", \"supervision_qualification_requirement\": \"\\u5177\\u5907\\u6709\\u6548\\u7684\\u5de5\\u7a0b\\u76d1\\u7406\\u7efc\\u5408\\u8d44\\u8d28\\u4e14\\u6587\\u7269\\u4fdd\\u62a4\\u5de5\\u7a0b\\u76d1\\u7406\\u4e59\\u7ea7\\u6216\\u4ee5\\u4e0a\\u8d44\\u8d28\\u6216\\u623f\\u5c4b\\u5efa\\u7b51\\u5de5\\u7a0b\\u76d1\\u7406\\u4e59\\u7ea7\\u6216\\u4ee5\\u4e0a\\u8d44\\u8d28\\u4e14\\u6587\\u7269\\u4fdd\\u62a4\\u5de5\\u7a0b\\u76d1\\u7406\\u4e59\\u7ea7\\u6216\\u4ee5\\u4e0a\\u8d44\\u8d28\", \"business_license_requirement\": \"\\u7ecf\\u5e02\\u573a\\u76d1\\u7763\\u7ba1\\u7406\\u90e8\\u95e8\\u786e\\u5b9a\\u7684\\u5177\\u6709\\u6548\\u72ec\\u7acb\\u6cd5\\u4eba\\u8d44\\u683c\\u7684\\u4f01\\u4e1a\", \"chief_supervisor_qualification_requirement\": \"\", \"consortium_bidding_requirement\": \"\\u5426\", \"project_name\": \"\\u5b59\\u4e2d\\u5c71\\u7eaa\\u5ff5\\u5802\\u52a0\\u56fa\\u4fee\\u7f2e\\u5de5\\u7a0b\", \"investment_project_code\": \"2201-442000-04-01-707876\", \"tender_project_name\": \"\\u5b59\\u4e2d\\u5c71\\u7eaa\\u5ff5\\u5802\\u52a0\\u56fa\\u4fee\\u7f2e\\u5de5\\u7a0b\\u76d1\\u7406\", \"implementation_site\": \"\\u4e2d\\u5c71\\u5e02\\u77f3\\u5c90\\u8857\\u9053\\u5b59\\u6587\\u4e2d\\u8def188\\u53f7\", \"funding_source\": \"\\u5e02\\u8d22\\u653f\\u8d44\\u91d1\\u3001\\u90ed\\u5f97\\u80dc\\u57fa\\u91d1\", \"tender_scope_and_scale\": \"\\u5b59\\u4e2d\\u5c71\\u7eaa\\u5ff5\\u5802\\u52a0\\u56fa\\u4fee\\u7f2e\\u5de5\\u7a0b\\u9879\\u76ee\\u4f4d\\u4e8e\\u4e2d\\u5c71\\u5e02\\u77f3\\u5c90\\u8857\\u9053\\u5b59\\u6587\\u4e2d\\u8def188\\u53f7\\uff0c\\u603b\\u7528\\u5730\\u9762\\u79ef\\u5408\\u8ba129082.5\\u5e73\\u65b9\\u7c73\\uff0c\\u5efa\\u7b51\\u9762\\u79ef\\u4e3a9327.35\\u5e73\\u65b9\\u7c73\\u3002\\u672c\\u9879\\u76ee\\u5efa\\u8bbe\\u573a\\u5740\\u4f4d\\u4e8e\\u73b0\\u72b6\\u5b59\\u4e2d\\u5c71\\u7eaa\\u5ff5\\u5802\\u7684\\u7528\\u5730\\u8303\\u56f4\\u5185\\uff0c\\u52a0\\u56fa\\u4fee\\u7f2e\\u5de5\\u7a0b\\u4e3b\\u8981\\u5305\\u62ec\\uff1a\\u52a0\\u56fa\\u7eaa\\u5ff5\\u5802\\u5efa\\u7b51\\u7ed3\\u6784\\uff1b\\u4fee\\u590d\\u5efa\\u7b51\\u5916\\u5899\\u3001\\u5c4b\\u9876\\u53ca\\u4fee\\u7f2e\\u5ba4\\u5185\\u7684\\u5e8f\\u5e55\\u5927\\u5385\\u3001\\u5c55\\u5385\\u3001\\u5267\\u573a\\u3001\\u821e\\u53f0\\u3001\\u540e\\u53f0\\u7b49\\uff1b\\u66f4\\u6362\\u4f9b\\u914d\\u7535\\u3001\\u7ed9\\u6392\\u6c34\\u3001\\u7a7a\\u8c03\\u901a\\u98ce\\u3001\\u6d88\\u9632\\u3001\\u5efa\\u7b51\\u667a\\u80fd\\u7cfb\\u7edf\\u7684\\u8001\\u5316\\u8bbe\\u5907\\uff1b\\u5bf9\\u5efa\\u7b51\\u7269\\u8fdb\\u884c\\u6574\\u4f53\\u6062\\u590d\\u6027\\u88c5\\u4fee\\u3002\\u672c\\u9879\\u76ee\\u517114\\u680b\\u5efa\\uff08\\u6784\\uff09\\u7b51\\u7269\\uff0c\\u5305\\u62ec13\\u680b\\u4fee\\u7f2e\\u5efa\\u7b51\\u548c1\\u680b\\u65b0\\u5efa\\u6d88\\u9632\\u6c34\\u6c60\\u3002\\u4fee\\u7f2e\\u5efa\\u7b51\\u4e3a\\u5b59\\u4e2d\\u5c71\\u7eaa\\u5ff5\\u5802\\u4e3b\\u4f53\\u5efa\\u7b51\\u3001\\u7a7a\\u8c03\\u673a\\u623f\\u3001\\u914d\\u7535\\u623f2\\u680b\\u3001\\u6c34\\u6cf5\\u623f\\u3001\\u4ed3\\u5e93\\u3001\\u6d88\\u9632\\u76d1\\u63a7\\u63a7\\u5236\\u5ba4\\u3001\\u6bcd\\u5a74\\u5ba4\\u3001\\u5395\\u6240\\u3001\\u914d\\u5957\\u5546\\u4e1a\\u7528\\u623f3\\u680b\\u3001\\u95e8\\u697c\\u3002\\u5176\\u4e2d\\u5b59\\u4e2d\\u5c71\\u7eaa\\u5ff5\\u5802\\u4e3b\\u4f53\\u5efa\\u7b51\\u548c\\u95e8\\u697c\\u4e3a\\u5e02\\u7ea7\\u6587\\u7269\\u4fdd\\u62a4\\u5355\\u4f4d\\u3002\\u9879\\u76ee\\u4e2d\\u5efa\\u7b51\\u9ad8\\u5ea6\\u6700\\u9ad8\\u4e3a23.50m\\uff0c\\u5c42\\u6570\\u6700\\u591a\\u4e3a3\\u5c42\\uff0c\\u5355\\u8de8\\u8de8\\u5ea6\\u6700\\u5927\\u4e3a27.5m\\u3002\\u672c\\u9879\\u76ee\\u7684\\u7acb\\u9879\\u603b\\u6295\\u8d44\\u4e3a6597.3587\\u4e07\\u5143\\uff0c\\u6982\\u7b97\\u5efa\\u7b51\\u5b89\\u88c5\\u5de5\\u7a0b\\u8d39\\u4e3a5901.30\\u4e07\\u5143\\uff0c\\u672c\\u6b21\\u62db\\u6807\\u76d1\\u7406\\u8d39\\u603b\\u62a5\\u4ef7\\u4e0a\\u9650\\u4e3a106.61\\u4e07\\u5143\\u3002\", \"duration\": \"390\\u4e2a\\u65e5\\u5386\\u5929\\uff08\\u65bd\\u5de5\\u9636\\u6bb5\\u76d1\\u7406\\u5de5\\u4f5c\\u671f\\u9650\\uff09\\uff0c\\u4fdd\\u4fee\\u9636\\u6bb5\\u76d1\\u7406\\u5de5\\u4f5c\\u671f\\u965024\\u4e2a\\u6708\", \"maximum_bid_price\": \"1066100.00\\u5143\", \"qualification_review_method\": \"\\u8d44\\u683c\\u540e\\u5ba1\"}\n"
     ]
    }
   ],
   "source": [
    "ttt = getFormatedData(tt)"
   ]
  },
  {
   "cell_type": "code",
   "execution_count": 26,
   "metadata": {},
   "outputs": [],
   "source": [
    "def insert_into_tender_detail(cursor, data):\n",
    "    # 获取字段名和值\n",
    "    fields = ', '.join(data.keys())\n",
    "    values = ', '.join(['%s'] * len(data))\n",
    "\n",
    "    # 创建占位符字符串\n",
    "    placeholders = ', '.join(['%s'] * len(data))\n",
    "    \n",
    "    # 创建INSERT SQL语句\n",
    "    insert_query = f\"\"\"INSERT INTO tender_detail ({fields}) VALUES ({values})\"\"\"\n",
    "    \n",
    "    # 执行SQL语句\n",
    "    cursor.execute(insert_query, list(data.values()))\n",
    "    print(\"insert：\"+insert_query)\n",
    "\n",
    "def insertTenderDetail(tender_id, formatedData):\n",
    "    # 连接数据库\n",
    "    with connect_db() as db:\n",
    "        if db is None:\n",
    "            print(\"Failed to connect to the database.\")\n",
    "            return\n",
    "\n",
    "         # 检查formatedData是否为None\n",
    "        if formatedData is None:\n",
    "            print(\"Error: formatedData is None.\")\n",
    "            return\n",
    "        \n",
    "        # 添加tender_id到formatedData字典中\n",
    "        formatedData['tender_id'] = tender_id\n",
    "\n",
    "        # 创建游标\n",
    "        with db.cursor() as cursor:\n",
    "            # 插入数据\n",
    "            insert_into_tender_detail(cursor, formatedData)\n",
    "            print(\"insert_into_tender_detail\")\n",
    "            # 提交事务\n",
    "            db.commit()\n",
    "\n"
   ]
  },
  {
   "cell_type": "code",
   "execution_count": 27,
   "metadata": {},
   "outputs": [
    {
     "name": "stdout",
     "output_type": "stream",
     "text": [
      "insert：INSERT INTO tender_detail (tender_id, tender_document_start_time, tender_document_end_time, question_deadline, answer_announcement_time, bid_submission_deadline, bid_opening_time, tenderer, tender_contact, contact_phone, tender_agency, tender_agency_contact, tender_agency_contact_phone, supervision_qualification_requirement, business_license_requirement, chief_supervisor_qualification_requirement, consortium_bidding_requirement, project_name, investment_project_code, tender_project_name, implementation_site, funding_source, tender_scope_and_scale, duration, maximum_bid_price, qualification_review_method) VALUES (%s, %s, %s, %s, %s, %s, %s, %s, %s, %s, %s, %s, %s, %s, %s, %s, %s, %s, %s, %s, %s, %s, %s, %s, %s, %s)\n",
      "insert_into_tender_detail\n"
     ]
    }
   ],
   "source": [
    "insertTenderDetail(23, ttt)"
   ]
  },
  {
   "cell_type": "code",
   "execution_count": null,
   "metadata": {},
   "outputs": [],
   "source": [
    "\n",
    "# 使用gethtml(18)函数的返回值作为getFormatedData函数的输入\n",
    "cleanedHtml = gethtml(91)\n",
    "if cleanedHtml is not None:\n",
    "    formatedData = getFormatedData(cleanedHtml)\n",
    "    insertTenderDetail(91, formatedData)"
   ]
  }
 ],
 "metadata": {
  "kernelspec": {
   "display_name": "lcpython11",
   "language": "python",
   "name": "python3"
  },
  "language_info": {
   "codemirror_mode": {
    "name": "ipython",
    "version": 3
   },
   "file_extension": ".py",
   "mimetype": "text/x-python",
   "name": "python",
   "nbconvert_exporter": "python",
   "pygments_lexer": "ipython3",
   "version": "3.11.7"
  }
 },
 "nbformat": 4,
 "nbformat_minor": 2
}
