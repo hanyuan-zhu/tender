{
 "cells": [
  {
   "cell_type": "code",
   "execution_count": 1,
   "metadata": {},
   "outputs": [],
   "source": [
    "from database_util import connect_db, get_uncleaned_html_records, update_cleaned_html\n",
    "\n",
    "def gethtml(tender_id):\n",
    "    # 连接数据库\n",
    "    db = connect_db()\n",
    "    if db is None:\n",
    "        print(\"Failed to connect to the database.\")\n",
    "        return\n",
    "    # 创建游标\n",
    "    cursor = db.cursor()\n",
    "    # 获取当前tender_id下，tender_detail_html表中的cleaned_detail_html字段\n",
    "    cursor.execute(\"SELECT tender_id, cleaned_detail_html FROM tender_detail_html WHERE tender_id = %s\", (tender_id,))\n",
    "    result = cursor.fetchone()\n",
    "    # print(result)\n",
    "    print(\"LOAD SQL SUCCESS\")\n",
    "    # 关闭游标和数据库连接\n",
    "    cursor.close()\n",
    "    db.close()\n",
    "    if result is not None:\n",
    "        return result[1]\n",
    "        print(\"SQL gethtml\"+tender_id+\" SUCCESS AND CLOSED\")\n",
    "    else:\n",
    "        return None"
   ]
  },
  {
   "cell_type": "code",
   "execution_count": 2,
   "metadata": {},
   "outputs": [
    {
     "name": "stdout",
     "output_type": "stream",
     "text": [
      "LOAD SQL SUCCESS\n"
     ]
    }
   ],
   "source": [
    "tt = gethtml(97)"
   ]
  },
  {
   "cell_type": "code",
   "execution_count": 9,
   "metadata": {},
   "outputs": [],
   "source": [
    "from zhipuai import ZhipuAI\n",
    "import json\n",
    "\n",
    "def getFormatedData(cleanedHtml):\n",
    "    client = ZhipuAI(api_key=\"8d55d03f87e0ff621db27c37325c516d.4Ck0uvE4M1xYW8HB\")\n",
    "    response = client.chat.completions.create(\n",
    "    model=\"glm-4\", \n",
    "    messages=[\n",
    "         {\"role\": \"user\", \"content\": f\"请根据以下清洗后的招标公告内容，提取招标相关的全部信息，并以键值对的形式返回这些信息。我需要以下字段：tender_id, tender_document_start_time, tender_document_end_time, question_deadline, answer_announcement_time, bid_submission_deadline, bid_opening_time, tenderer, tender_contact, contact_phone, tender_agency, tender_agency_contact, tender_agency_contact_phone, supervision_qualification_requirement, business_license_requirement, chief_supervisor_qualification_requirement, consortium_bidding_requirement, project_name, investment_project_code, tender_project_name, implementation_site, funding_source, tender_scope_and_scale, duration, maximum_bid_price, qualification_review_method。这些字段的内容是：{cleanedHtml}。请以以下的JSON格式返回结果：{{\\\"tender_id\\\": \\\"\\\", \\\"tender_document_start_time\\\": \\\"\\\", \\\"tender_document_end_time\\\": \\\"\\\", \\\"question_deadline\\\": \\\"\\\", \\\"answer_announcement_time\\\": \\\"\\\", \\\"bid_submission_deadline\\\": \\\"\\\", \\\"bid_opening_time\\\": \\\"\\\", \\\"tenderer\\\": \\\"\\\", \\\"tender_contact\\\": \\\"\\\", \\\"contact_phone\\\": \\\"\\\", \\\"tender_agency\\\": \\\"\\\", \\\"tender_agency_contact\\\": \\\"\\\", \\\"tender_agency_contact_phone\\\": \\\"\\\", \\\"supervision_qualification_requirement\\\": \\\"\\\", \\\"business_license_requirement\\\": \\\"\\\", \\\"chief_supervisor_qualification_requirement\\\": \\\"\\\", \\\"consortium_bidding_requirement\\\": \\\"\\\", \\\"project_name\\\": \\\"\\\", \\\"investment_project_code\\\": \\\"\\\", \\\"tender_project_name\\\": \\\"\\\", \\\"implementation_site\\\": \\\"\\\", \\\"funding_source\\\": \\\"\\\", \\\"tender_scope_and_scale\\\": \\\"\\\", \\\"duration\\\": \\\"\\\", \\\"maximum_bid_price\\\": \\\"\\\", \\\"qualification_review_method\\\": \\\"\\\"}}。请注意，返回的结果应该是一个有效的JSON字符串，不应该包含任何特殊字符或注释。某些值不存在或者没有提供则默认将这些值留空\"}\n",
    "    ],\n",
    "    top_p=0.7,\n",
    "    temperature=0.2,\n",
    "    max_tokens=4096,\n",
    "    )\n",
    "    # print(response.choices[0].message)\n",
    "\n",
    "    # 获取message的内容\n",
    "    message_content = response.choices[0].message.content\n",
    "\n",
    "    # 去掉message_content中的特殊字符\n",
    "    message_content_cleaned = message_content.split('```json')[1]\n",
    "    # 去掉message_content中的特殊字符\n",
    "    message_content_cleaned = message_content_cleaned.replace('\\n', '').replace('\\\\', '').replace('`', '')\n",
    "\n",
    "    # 找到最外层的 }\n",
    "    count = 0\n",
    "    for i, char in enumerate(message_content_cleaned):\n",
    "        if char == '{':\n",
    "            count += 1\n",
    "        elif char == '}':\n",
    "            count -= 1\n",
    "            if count == 0:\n",
    "                message_content_cleaned = message_content_cleaned[:i+1]\n",
    "                break\n",
    "\n",
    "    # 检查message_content_cleaned是否为空\n",
    "    if not message_content_cleaned:\n",
    "        print(\"Error: message_content_cleaned is empty.\")\n",
    "        return None\n",
    "\n",
    "    # 使用json.loads将清洗后的字符串转换为字典\n",
    "    try:\n",
    "        formatedData = json.loads(message_content_cleaned)\n",
    "    except json.JSONDecodeError as e:\n",
    "        print(f\"Error: failed to parse JSON: {message_content_cleaned}\")\n",
    "        print(f\"JSONDecodeError: {e}\")\n",
    "        return None\n",
    "    except Exception as e:\n",
    "        print(f\"An unexpected error occurred: {e}\")\n",
    "        return None\n",
    "\n",
    "    # 打印出data\n",
    "    print(\"FORMATED DATA DONE,DATA:\" + json.dumps(formatedData))\n",
    "    return formatedData"
   ]
  },
  {
   "cell_type": "code",
   "execution_count": 10,
   "metadata": {},
   "outputs": [
    {
     "name": "stdout",
     "output_type": "stream",
     "text": [
      "FORMATED DATA DONE,DATA:{\"tender_id\": \"\", \"tender_document_start_time\": \"2024\\u5e742\\u670823\\u65e518\\u65f600\\u5206\", \"tender_document_end_time\": \"2024\\u5e743\\u670818\\u65e511\\u65f630\\u5206\", \"question_deadline\": \"\", \"answer_announcement_time\": \"\", \"bid_submission_deadline\": \"2024\\u5e743\\u670818\\u65e511\\u65f630\\u5206\", \"bid_opening_time\": \"2024\\u5e743\\u670818\\u65e511\\u65f630\\u5206\", \"tenderer\": \"\\u97f6\\u5173\\u5e02\\u66f2\\u6c5f\\u533a\\u519c\\u4e1a\\u519c\\u6751\\u5c40\", \"tender_contact\": \"\\u6e29\\u5148\\u751f\", \"contact_phone\": \"0751-6689606\", \"tender_agency\": \"\\u5e7f\\u5dde\\u7a57\\u79d1\\u5efa\\u8bbe\\u7ba1\\u7406\\u6709\\u9650\\u516c\\u53f8\", \"tender_agency_contact\": \"\\u6768\\u5de5\", \"tender_agency_contact_phone\": \"0751-8219991\", \"supervision_qualification_requirement\": \"\\u5177\\u6709\\u5de5\\u7a0b\\u76d1\\u7406\\u7efc\\u5408\\u8d44\\u8d28\\uff1b\\u5177\\u6709\\u6c34\\u5229\\u6c34\\u7535\\u4e13\\u4e1a\\u76d1\\u7406\\u4e19\\u7ea7\\u4ee5\\u4e0a\\uff08\\u542b\\u4e19\\u7ea7\\uff09\\u8d44\\u8d28\\uff1b\\u5177\\u6709\\u5e02\\u653f\\u516c\\u7528\\u5de5\\u7a0b\\u4e13\\u4e1a\\u76d1\\u7406\\u4e19\\u7ea7\\u4ee5\\u4e0a\\uff08\\u542b\\u4e19\\u7ea7\\uff09\\u8d44\\u8d28\\u3002\", \"business_license_requirement\": \"\\u5177\\u6709\\u6709\\u6548\\u7684\\u8425\\u4e1a\\u6267\\u7167\\u3002\", \"chief_supervisor_qualification_requirement\": \"\\u62df\\u6d3e\\u603b\\u76d1\\u7406\\u5de5\\u7a0b\\u5e08\\u9700\\u5177\\u5907\\u6c34\\u5229\\u5de5\\u7a0b\\u6216\\u5e02\\u653f\\u516c\\u7528\\u5de5\\u7a0b\\u4e13\\u4e1a\\u6ce8\\u518c\\u76d1\\u7406\\u5de5\\u7a0b\\u5e08\\uff0c\\u5e94\\u6301\\u6709\\u56fd\\u5bb6\\u4f4f\\u5efa\\u90e8\\u5370\\u53d1\\u7684\\u6709\\u6548\\u6ce8\\u518c\\u8bc1\\u4e66\\uff0c\\u5176\\u62c5\\u4efb\\u603b\\u76d1\\u7406\\u5de5\\u7a0b\\u5e08\\u804c\\u52a1\\u7684\\u5176\\u4ed6\\u5728\\u65bd\\u5efa\\u8bbe\\u5de5\\u7a0b\\u9879\\u76ee\\u4e0d\\u5f97\\u8d85\\u8fc72\\u4e2a\\u3002\", \"consortium_bidding_requirement\": \"\\u5426\", \"project_name\": \"\\u97f6\\u5173\\u5e02\\u66f2\\u6c5f\\u533a\\u519c\\u4e1a\\u519c\\u6751\\u57fa\\u7840\\u8bbe\\u65bd\\u63d0\\u5347\\u5de5\\u7a0b\", \"investment_project_code\": \"2206-440205-04-01-737081\", \"tender_project_name\": \"\\u97f6\\u5173\\u5e02\\u66f2\\u6c5f\\u533a\\u5927\\u5858\\u9547\\u897f\\u6797\\u6751\\u7b494\\u4e2a\\u6751\\u3001\\u5927\\u5858\\u9547\\u5176\\u7530\\u6751\\u7b496\\u4e2a\\u6751\\u3001\\u67ab\\u6e7e\\u9547\\u6c34\\u6bc1\\u519c\\u4e1a\\u57fa\\u7840\\u8bbe\\u65bd\\u4fee\\u590d\\u5de5\\u7a0b\\uff08\\u4e8c\\u7247\\u533a\\uff09\\u76d1\\u7406\", \"implementation_site\": \"\\u97f6\\u5173\\u5e02\\u66f2\\u6c5f\\u533a\", \"funding_source\": \"\\u4e13\\u9879\\u503a\\u5238\\u8d44\\u91d1\", \"tender_scope_and_scale\": \"\\u9879\\u76ee\\u5efa\\u8bbe\\u5185\\u5bb9\\u53ca\\u89c4\\u6a21\\uff1a\\u9879\\u76ee\\u9488\\u5bf9\\u9642\\u5934\\u3001\\u704c\\u6e89\\u6c34\\u6e20\\u3001\\u673a\\u8015\\u8def\\u3001\\u6751\\u5185\\u9053\\u8def\\u3001\\u6321\\u571f\\u5899\\u3001\\u5b89\\u7f6e\\u623f\\u5c4b\\u7b49\\u8fdb\\u884c\\u4fee\\u590d\\uff1b\\u9879\\u76ee\\u6295\\u8d44\\uff1a\\u9879\\u76ee\\u603b\\u6295\\u8d448936.34\\u4e07\\u5143\\uff0c\\u672c\\u6b21\\u62db\\u6807\\u65bd\\u5de5\\u76d1\\u7406\\u8d39\\u7ea627.52\\u4e07\\u5143\\u3002\", \"duration\": \"\\u9879\\u76ee\\u5b9e\\u65bd\\u5168\\u8fc7\\u7a0b\\u76d1\\u7406\\uff0c\\u4ece\\u5f00\\u5de5\\u59cb\\u76f4\\u81f3\\u7ae3\\u5de5\\u9a8c\\u6536\\u5b8c\\u6210\\u6b62\\u3002\", \"maximum_bid_price\": \"\\u4eba\\u6c11\\u5e01\\u8d30\\u62fe\\u67d2\\u4e07\\u4f0d\\u4edf\\u8d30\\u4f70\\u5143\\u6574\\uff08\\uffe5275,200.00\\u5143\\uff09\", \"qualification_review_method\": \"\\u8d44\\u683c\\u540e\\u5ba1\"}\n"
     ]
    }
   ],
   "source": [
    "ttt = getFormatedData(tt)"
   ]
  },
  {
   "cell_type": "code",
   "execution_count": 26,
   "metadata": {},
   "outputs": [],
   "source": [
    "def insert_into_tender_detail(cursor, data):\n",
    "    # 获取字段名和值\n",
    "    fields = ', '.join(data.keys())\n",
    "    values = ', '.join(['%s'] * len(data))\n",
    "\n",
    "    # 创建占位符字符串\n",
    "    placeholders = ', '.join(['%s'] * len(data))\n",
    "    \n",
    "    # 创建INSERT SQL语句\n",
    "    insert_query = f\"\"\"INSERT INTO tender_detail ({fields}) VALUES ({values})\"\"\"\n",
    "    \n",
    "    # 执行SQL语句\n",
    "    cursor.execute(insert_query, list(data.values()))\n",
    "    print(\"insert：\"+insert_query)\n",
    "\n",
    "def insertTenderDetail(tender_id, formatedData):\n",
    "    # 连接数据库\n",
    "    with connect_db() as db:\n",
    "        if db is None:\n",
    "            print(\"Failed to connect to the database.\")\n",
    "            return\n",
    "\n",
    "         # 检查formatedData是否为None\n",
    "        if formatedData is None:\n",
    "            print(\"Error: formatedData is None.\")\n",
    "            return\n",
    "        \n",
    "        # 添加tender_id到formatedData字典中\n",
    "        formatedData['tender_id'] = tender_id\n",
    "\n",
    "        # 创建游标\n",
    "        with db.cursor() as cursor:\n",
    "            # 插入数据\n",
    "            insert_into_tender_detail(cursor, formatedData)\n",
    "            print(\"insert_into_tender_detail\")\n",
    "            # 提交事务\n",
    "            db.commit()\n",
    "\n"
   ]
  },
  {
   "cell_type": "code",
   "execution_count": 27,
   "metadata": {},
   "outputs": [
    {
     "name": "stdout",
     "output_type": "stream",
     "text": [
      "insert：INSERT INTO tender_detail (tender_id, tender_document_start_time, tender_document_end_time, question_deadline, answer_announcement_time, bid_submission_deadline, bid_opening_time, tenderer, tender_contact, contact_phone, tender_agency, tender_agency_contact, tender_agency_contact_phone, supervision_qualification_requirement, business_license_requirement, chief_supervisor_qualification_requirement, consortium_bidding_requirement, project_name, investment_project_code, tender_project_name, implementation_site, funding_source, tender_scope_and_scale, duration, maximum_bid_price, qualification_review_method) VALUES (%s, %s, %s, %s, %s, %s, %s, %s, %s, %s, %s, %s, %s, %s, %s, %s, %s, %s, %s, %s, %s, %s, %s, %s, %s, %s)\n",
      "insert_into_tender_detail\n"
     ]
    }
   ],
   "source": [
    "insertTenderDetail(97, ttt)"
   ]
  },
  {
   "cell_type": "code",
   "execution_count": null,
   "metadata": {},
   "outputs": [],
   "source": [
    "\n",
    "# 使用gethtml(18)函数的返回值作为getFormatedData函数的输入\n",
    "cleanedHtml = gethtml(97)\n",
    "if cleanedHtml is not None:\n",
    "    formatedData = getFormatedData(cleanedHtml)\n",
    "    insertTenderDetail(97, formatedData)"
   ]
  }
 ],
 "metadata": {
  "kernelspec": {
   "display_name": "lcpython11",
   "language": "python",
   "name": "python3"
  },
  "language_info": {
   "codemirror_mode": {
    "name": "ipython",
    "version": 3
   },
   "file_extension": ".py",
   "mimetype": "text/x-python",
   "name": "python",
   "nbconvert_exporter": "python",
   "pygments_lexer": "ipython3",
   "version": "3.11.7"
  }
 },
 "nbformat": 4,
 "nbformat_minor": 2
}
