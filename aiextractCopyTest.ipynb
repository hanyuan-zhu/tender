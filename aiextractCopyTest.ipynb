{
 "cells": [
  {
   "cell_type": "code",
   "execution_count": 31,
   "metadata": {},
   "outputs": [],
   "source": [
    "from database_util import connect_db, get_uncleaned_html_records, update_cleaned_html\n",
    "\n",
    "def gethtml(tender_id):\n",
    "    # 连接数据库\n",
    "    db = connect_db()\n",
    "    if db is None:\n",
    "        print(\"Failed to connect to the database.\")\n",
    "        return\n",
    "    # 创建游标\n",
    "    cursor = db.cursor()\n",
    "    # 获取当前tender_id下，tender_detail_html表中的cleaned_detail_html字段\n",
    "    cursor.execute(\"SELECT tender_id, cleaned_detail_html FROM tender_detail_html WHERE tender_id = %s\", (tender_id,))\n",
    "    result = cursor.fetchone()\n",
    "    # print(result)\n",
    "    print(\"LOAD SQL SUCCESS\")\n",
    "    # 关闭游标和数据库连接\n",
    "    cursor.close()\n",
    "    db.close()\n",
    "    if result is not None:\n",
    "        return result[1]\n",
    "        print(\"SQL gethtml\"+tender_id+\" SUCCESS AND CLOSED\")\n",
    "    else:\n",
    "        return None"
   ]
  },
  {
   "cell_type": "code",
   "execution_count": 76,
   "metadata": {},
   "outputs": [
    {
     "name": "stdout",
     "output_type": "stream",
     "text": [
      "LOAD SQL SUCCESS\n",
      "  <div><p>广东省工程建设项目招标公告</p><table><tbody><tr><td><p>投资项目代码</p></td><td><p>2202-440783-04-01-935321</p></td></tr><tr><td><p>投资项目名称</p></td><td><p>开平市国际卫浴创新基地产业综合配套工程</p></td></tr><tr><td><p>招标项目名称</p></td><td><p>开平市国际卫浴创新基地产业综合配套工程（一期）全过程工程咨询（勘察、方案及初步设计、监理、全过程造价咨询）</p></td></tr><tr><td><p>标段（包）名称</p></td><td><p>开平市国际卫浴创新基地产业综合配套工程（一期）全过程工程咨询（勘察、方案及初步设计、监理、全过程造价咨询）</p></td><td><p>公告性质</p></td><td><p>正常</p></td></tr><tr><td><p>资格审查方式</p></td><td><p>资格后审</p></td></tr><tr><td><p>招标项目实施</p><p>（交货）地点</p></td><td><p>江门市开平市水口镇国际卫浴创新基地内</p></td></tr><tr><td><p>资金来源</p></td><td><p>自筹资金</p></td><td><p>资金来源构成</p></td><td><p>全部来源自筹资金</p></td></tr><tr><td><p>招标范围及规模</p></td><td><p>招标范围及内容：</p><p>(1)工程勘察招标内容：本项目规划红线图范围内所需的所有勘察、测量工作，确保勘察数据的准确性与有效性，为后续设计提供依据,包括但不限于岩土工程勘察（包括钻孔、取样、现场标贯试验、技术工作、室内试验及其它相关工作）、物探测试检测（地下管线探测、技术工作等）。</p><p>(2)工程设计招标内容：</p><p>①方案设计：根据招标人整体规划、建设要求及实际情况提供本项目方案设计，确保方案设计满足国家现行的有关规定及相关专业工程技术标准和现行设计规范、规程的有关深度和内容要求；</p><p>②初步设计：项目范围内的规划及初步设计，编制工程概算，并提交初步设计成果文件，且通过全部评审。对最终施工图纸的后续实施过程（包含协助办理相关主管部门的意见手续、施工图设计的初步审核）进行跟进和技术支持。</p><p>工程设计范围：包括但不限于方案设计、初步设计（含概算编制）、提供向所有相关职能部门报审报建的相关设计资料、后期咨询服务及相关配合服务等。</p><p>(3)工程监理：提供建设工程施工过程中的质量、进度、费用控制管理和安全生产监督管理、合同管理、信息管理和组织协调等方面的监理服务。监理工作内容还包括：施工前期准备阶段、施工准备阶段、施工阶段、工程收尾阶段（包括但不限于竣工验收、整改、工程移交、工程结算等）及缺陷责任期阶段的监理服务；</p><p>(4)全过程造价咨询：从造价成本控制的角度对本项目进行全过程的投资管理及成本控制；工作内容包括但不限于：包含负责审核和调整工程概算（如有），施工图预算审核和调整，施工阶段、竣工结算阶段的造价咨询服务（含审核、谈判等工作）。</p><p>项目建设规模：一期项目用地面积约25亩（16667平方米），地下室面积约10260平方米，总计容建筑面积约41667平方米。包含高度约40m的人才公寓一栋，高度约70m的员工宿舍一栋，以及食堂超市配套。</p><p>项目估算总投资72258.65万元，其中一期项目：建安工程费约18000万元。</p></td></tr><tr><td><p>招标内容</p></td><td><p>全过程工程咨询（勘察、方案及初步设计、监理、全过程造价咨询）</p></td></tr><tr><td><p>工期（交货期）</p></td><td><p>自本项目合同签订之日起，至竣工结算且完成本项目全过程工程服务止（包含所有工程的缺陷责任期）。</p></td></tr><tr><td><p>最高投标限价</p></td><td><p>/</p></td></tr><tr><td><p>是否接受联合体投标</p></td><td><p>是</p></td></tr><tr><td><p>投标资格能力要求（包括但不限于资质人员、业绩等要求）</p></td><td><p>投标人资格要求</p></td><td><p>一、投标人资格要求：</p><p>投标人应具有独立法人资格并依法取得营业执照，营业执照处于有效期。(如为联合体投标，联合体各成员方均须符合)。</p><p>二、投标人必须具备以下三项的资质：</p><p>（1）勘察资质：具备建设行政主管部门颁发有效的工程勘察综合甲级资质，或同时具备工程勘察专业类（岩土工程（勘察））甲级及以上资质和工程勘察专业类（工程测量）乙级及以上资质。</p><p>（2）设计资质：具备建设行政主管部门颁发有效的工程设计综合甲级资质，或工程设计建筑行业甲级资质，或工程设计建筑行业（建筑工程）专业甲级资质。</p><p>（3）监理资质：具备建设行政主管部门颁发有效的工程监理综合资质，或房屋建筑工程监理甲级资质。</p><p>根据《住房和城乡建设部办公厅关于取消工程造价咨询企业资质审批加强事中事后监管的通知》（建办标〔2021〕26号）的要求，工程造价咨询企业按照其营业执照经营范围开展业务，对其资质不作要求。</p><p>三、本次招标接受联合体投标。联合体投标的，应满足下列要求：组成联合体的成员不超过4 家(含牵头人)，且须以承担监理任务的一方为牵头人，并签定有效的联合体协议书。联合体各方同意指定牵头人的法人代表或其委托代理人为联合体授权代表执行联合体有关的决议，以联合体名义处理与本项目相关的事务；联合体各方签订联合体协议书后，不得再以自己名义单独投标，也不得组成新的联合体或参加其他联合体在本项目中投标；其投标文件以及中标时签订的合同，对联合体各方都产生约束力；联合体协议书应明确约定各方拟承担的工作和责任；联合体投标的以牵头人名义提交投标保证金。</p><p>四、对投标人拟派项目总负责人的资格要求（如为联合体投标的，由牵头人派出，可与总监理工程师为同一人）：须具备以下任意一项工程建设类注册执业资格：取得相应工程建设类注册执业资格，包括注册土木工程师（岩土）资格、一级注册建筑师资格、注册造价师或一级注册造价工程师资格、房屋建筑工程专业注册监理工程师资格等，或具备建筑类相关专业高级及以上技术职称。项目总负责人未处于国家、广东省、江门市的建设行政管理部门作出的行政处罚中规定的停止执业期限内。</p><p>（1）勘察项目负责人的资格要求：须具备注册土木工程师（岩土）资格。</p><p>（2）设计项目负责人的资格要求：须具备一级注册建筑师资格。</p><p>（3）造价项目负责人的资格要求：须具备注册造价师或一级注册造价工程师资格。</p><p>（4）总监理工程师的资格要求：须具备房屋建筑工程专业注册监理工程师资格。</p><p>五、诚信要求</p><p>（1）根据《江门市住房和城乡建设局关于江门市建筑业企业信用管理办法（修订版）》(江建〔2019〕356号)的相关规定，投标人（联合体投标的，包括联合体所有成员）须是被列入“江门市建筑业企业信用管理信息系统”信用等级为C级或以上的企业。</p><p>（2）投标人（联合体投标的，包括联合体所有成员）未处于国家、广东省、江门市的建设行政管理部门做出的行政处罚中规定的停止承接业务期限内。</p><p>（3）投标人（联合体投标的，包括联合体所有成员）不属于“信用中国”失信被执行人（公示网址：www.creditchina.gov.cn）。</p><p>六、其他要求</p><p>（1）取得香港工程建设咨询从业资格的企业和执业资格的专业人士，按照《广东省住房和城乡建设厅关于印发香港工程咨询企业和专业人士在粤港澳大湾区内地城市开业执业试点管理暂行办法的通知》规定备案，且备案信息已在广东省建设信息网公布，可以在我市范围内开业执业，为市场主体直接提供服务。经备案的香港企业和香港专业人士应当在备案的业务范围内开业执业。</p><p>（2）勘察项目负责人、设计项目负责人、总监理工程师和造价项目负责人不得为同一人。</p><p>（3）根据《广东省住房和城乡建设厅关于取消省外建筑企业和人员进粤信息备案有关工作的通知》（粤建市[2015]52号）和江门市住房城乡建设局发布的《关于调整省外建筑企业信息进粤登记有关查验工作的通知》要求，省外建筑企业需在“进粤企业和人员诚信信息登记平台”录入相关信息并通过数据规范检查，投标人（联合体投标的，包括联合体所有成员）须在投标文件中提供企业基本信息、资质情况信息（网上公开信息打印件）以备审查。</p></td></tr><tr><td><p>投标人业绩要求</p></td><td><p>/</p></td></tr><tr><td><p>是否采用电子招标投标方式</p></td><td><p>否</p></td><td><p>获取资格预审/招标文件的方式</p></td><td><p>下载资格预审/招标文件的网络地址</p></td><td><p>/</p></td></tr><tr><td><p>获取纸质资格预审/招标文件的方式</p></td><td><p>在广东省公共资源交易平台（江门市）上获取招标文件，网址：https://ygp.gdzwfw.gov.cn/ggzy-portal/#/440700/index</p></td></tr><tr><td><p>获取资格预审/招标文件开始时间</p></td><td><p>2024年3月25日17时00分</p></td><td><p>获取资格预审/招标文件截止时间</p></td><td><p>2024年4月16日09 时00分</p></td></tr><tr><td><p>递交资格预审/投标文件截止时间</p></td><td><p>2024年4月16日09 时30分</p></td><td><p>资格预审/投标文件递交方式</p></td><td><p>线下现场递交</p></td></tr><tr><td><p>开标时间</p></td><td><p>2024年4月16日09 时30分</p><p>（与投标截止时间为同一时间）</p></td><td><p>开标地点</p></td><td><p>江门市公共资源交易中心开平分中心[地址：开平市长沙东兴大道爱民路2号开平东兴大厦3楼开标厅（开平市人民政府行政服务中心内）]</p></td></tr><tr><td><p>发布公告媒介</p></td><td><p>广东省招标投标监管网、广东省公共资源交易平台（江门市）</p></td></tr><tr><td><p>招标人</p></td><td><p>开平市水口镇人民政府</p></td><td><p>联系地址</p></td><td><p>开平市水口镇大福路镇府大院</p></td></tr><tr><td><p>招标人联系人</p></td><td><p>刘先生</p></td><td><p>联系电话</p></td><td><p>0750-2710618</p></td></tr><tr><td><p>招标代理机构</p></td><td><p>中量工程咨询有限公司</p></td><td><p>联系地址</p></td><td><p>开平市三埠区长沙光明路101号二层202号铺位</p></td></tr><tr><td><p>招标代理联系人</p></td><td><p>甄小姐</p></td><td><p>联系电话</p></td><td><p>0750-2281070</p></td></tr><tr><td><p>招标监督机构</p></td><td><p>开平市住房和城乡建设局</p></td><td><p>联系电话</p></td><td><p>0750-2212287</p></td></tr><tr><td><p>其他依法应当载明的内容</p></td><td><p>/</p></td></tr></tbody></table><div> </div><p> </p><p>本次招标公告同时在广东省招标投标监管网、广东省公共资源交易平台(江门市)网站上发布。内容以广东省招标投标监管网发布内容为准，可点击http://zbtb.gd.gov.cn/#/index查看。</p></div> <font>各标段其他要求</font> <p> </p><p> 开平市国际卫浴创新基地产业综合配套工程（一期）全过程工程咨询（勘察、方案及初步设计、监理、全过程造价咨询） :  本标段接受联合体投标。   </p> <font>招标文件中所涉及各时间要求</font> <p> 获取招标文件开始时间 : 2024年03月25日 17时00分\t\t\t  获取招标文件截止时间 : 2024年04月16日 09时00分\t\t\t  招标文件发布开始时间 : 2024年03月25日 17时00分\t\t\t  招标文件发布截止时间 : 2024年04月16日 09时00分\t\t\t  投标文件递交截止时间 : 2024年04月16日 09时30分\t\t  投标保证金到账截止时间 : 2024年04月16日 09时30分\t\t  投标人提问截止时间 : 2024年04月06日 17时30分\t\t  招标文件异议截止时间 : 2024年04月06日 17时30分\t\t  投标人投诉截止时间 : 2024年04月06日 17时30分\t\t  招标人澄清的时间 : 2024年04月01日 17时30分\t\t  投标文件不得开启时间 : 2024年04月16日 09时30分\t\t  踏勘现场时间 : /\t\t  招标预备会召开时间 : /\t\t  </p>  <p> </p><table> <tbody><tr>    <td>开平市水口镇人民政府</td> </tr> <tr>     </tr> <tr>     </tr> </tbody></table> \n"
     ]
    }
   ],
   "source": [
    "tt = gethtml(468)\n",
    "print(tt)"
   ]
  },
  {
   "cell_type": "code",
   "execution_count": 112,
   "metadata": {},
   "outputs": [],
   "source": [
    "from zhipuai import ZhipuAI\n",
    "from database_util import connect_db,get_all_cleaned_htmls_to_extract,update_last_extracted_time,insert_data_into_tender_detail\n",
    "import logging\n",
    "# 配置日志级别，输出位置等\n",
    "logging.basicConfig(level=logging.INFO, format='%(asctime)s - %(levelname)s - %(message)s')\n",
    "\n",
    "\n",
    "def extract_detail_from_html(html):\n",
    "\n",
    "    client = ZhipuAI(api_key=\"e6af334544b37a85e83900a9152eb9a0.GzjnBTUhPOhDDJhx\")\n",
    "\n",
    "    tools = [{\n",
    "        \"type\": \"function\",\n",
    "        \"function\": {\n",
    "            \"name\": \"get_tender_detail\",\n",
    "            \"description\": \"从提供的招标公告内容中，提取需要的字段信息。请注意不得编造，无则留空。\",\n",
    "            \"parameters\": {\n",
    "            \"type\": \"object\",\n",
    "            \"properties\": {\n",
    "                \"html\": {\"description\": \"提供的招标公告内容\", \"type\": \"text\"},\n",
    "                \"tender_project_name\": {\"description\": \"项目名称：完整的项目名称\", \"type\": \"string\"},\n",
    "                \"implementation_site\": {\"description\": \"施工地点：具体的项目实施地点\", \"type\": \"string\"},\n",
    "                \"scope_and_range\": {\"description\": \"施工规模和范围：工程项目概括及施工类型、监理服务范围\", \"type\": \"string\"},\n",
    "                \"gross_floor_area\": {\"description\": \"总建筑面积：项目的总建筑面积\", \"type\": \"string\"},\n",
    "                \"total_investment\": {\"description\": \"总投资额：项目总投资金额\", \"type\": \"string\"},\n",
    "                \"duration\": {\"description\": \"工期：工程预计完成时间（日历天，月份，或起始和终止日期）\", \"type\": \"string\"},\n",
    "                \"bid_price\": {\"description\": \"监理服务费或最高限价：用于表示项目监理服务费用或监理服务最高报价限制\", \"type\": \"string\"},\n",
    "                \"bid_price_rate\": {\"description\": \"监理服务费率：表示计算最终监理服务费用的系数或比例，以小数表示\", \"type\": \"string\"},\n",
    "                \"company_qualification_requirement\": {\"description\": \"企业资质要求：包括资质类型和资质等级要求\", \"type\": \"string\"},\n",
    "                \"chief_registration_certificate\": {\"description\": \"总监专业要求：注册监理工程师资格证书专业要求\", \"type\": \"string\"},\n",
    "                \"chief_title_and_education\": {\"description\": \"总监职称学历：总监的职称要求和学历要求\", \"type\": \"string\"},\n",
    "                \"chief_experience\": {\"description\": \"总监业绩经验：总监类似项目方面业绩要求，要求候选人至少成功监理过特定数量的相似类型工程\", \"type\": \"string\"},\n",
    "                \"chief_restrictions\": {\"description\": \"总监限制：总监任职限制，如不允许同时监理多个项目\", \"type\": \"string\"},\n",
    "                \"tenderer\": {\"description\": \"招标方：招标方的名称\", \"type\": \"string\"},\n",
    "                \"bid_opening_time\": {\"description\": \"开标时间：开标仪式的具体时间以年月日时分表示\", \"type\": \"string\"}\n",
    "            },\n",
    "            \"required\": [\n",
    "                \"html\",\n",
    "                \"tender_project_name\",\n",
    "                \"implementation_site\",\n",
    "                \"scope_and_range\",\n",
    "                \"gross_floor_area\",\n",
    "                \"total_investment\",\n",
    "                \"duration\",\n",
    "                \"bid_price\",\n",
    "                \"bid_price_rate\",\n",
    "                \"company_qualification_requirement\",\n",
    "                \"chief_registration_certificate\",\n",
    "                \"chief_title_and_education\",\n",
    "                \"chief_experience\",\n",
    "                \"chief_restrictions\",\n",
    "                \"tenderer\",\n",
    "                \"bid_opening_time\"\n",
    "            ]\n",
    "            }\n",
    "        }\n",
    "        }]\n",
    "\n",
    "    # 清空对话\n",
    "    messages = []\n",
    "    messages.append({\"role\": \"user\", \"content\": \"从招标公告内容中，提取招标相关的全部信息。使用get_tender_detail这个tool来匹配对应字段，请注意不得编造，无则留空\"})\n",
    "    messages.append({\"role\": \"system\", \"content\": \"当然，请发送所需的招标公告，我会进行提取\"})\n",
    "    messages.append({\"role\": \"user\", \"content\": html})\n",
    "\n",
    "    \n",
    "    response = client.chat.completions.create(\n",
    "        model=\"glm-4\", \n",
    "        messages=messages,\n",
    "        tools=tools,\n",
    "        tool_choice=\"auto\",\n",
    "        # tool_choice={\"type\": \"function\", \"function\": {\"name\": \"get_tender_detail\"}},\n",
    "        top_p=0.7,\n",
    "        temperature=0.95,\n",
    "        max_tokens=4096,\n",
    "    )\n",
    "    \n",
    "    # logging.info(\"提取HTML招标详情的响应: {}\".format(response))\n",
    "\n",
    "    return response"
   ]
  },
  {
   "cell_type": "code",
   "execution_count": 113,
   "metadata": {},
   "outputs": [
    {
     "name": "stderr",
     "output_type": "stream",
     "text": [
      "2024-03-27 01:01:33,340 - INFO - HTTP Request: POST https://open.bigmodel.cn/api/paas/v4/chat/completions \"HTTP/1.1 200 \"\n"
     ]
    },
    {
     "name": "stdout",
     "output_type": "stream",
     "text": [
      "model='glm-4' created=1711472493 choices=[CompletionChoice(index=0, finish_reason='stop', message=CompletionMessage(content='根据您提供的招标公告内容，以下是提取的招标相关信息：\\n\\n- 项目名称：开平市国际卫浴创新基地产业综合配套工程（一期）全过程工程咨询（勘察、方案及初步设计、监理、全过程造价咨询）\\n- 施工地点：江门市开平市水口镇国际卫浴创新基地内\\n- 施工规模和范围：招标范围及内容：...全过程造价咨询：...。项目建设规模：一期项目用地面积约25亩（16667平方米），地下室面积约10260平方米，总计容建筑面积约41667平方米。包含高度约40m的人才公寓一栋，高度约70m的员工宿舍一栋，以及食堂超市配套。\\n- 总建筑面积：总计容建筑面积约41667平方米\\n- 总投资额：项目估算总投资72258.65万元，其中一期项目：建安工程费约18000万元\\n- 工期：自本项目合同签订之日起，至竣工结算且完成本项目全过程工程服务止（包含所有工程的缺陷责任期）\\n- 监理服务费或最高限价：/\\n- 监理服务费率：/\\n- 企业资质要求：投标人必须具备以下三项的资质：...。\\n- 总监专业要求：总监专业要求：...。\\n- 总监职称学历：总监职称学历：...。\\n- 总监业绩经验：总监业绩经验：...。\\n- 总监限制：总监限制：...。\\n- 招标方：开平市水口镇人民政府\\n- 开标时间：2024年4月16日09 时30分\\n\\n请注意，有些信息在您提供的内容中没有明确提及，因此标记为“/”或留空。如果需要更详细的信息，请提供完整的招标公告。', role='assistant', tool_calls=None))] request_id='8513523894089077306' id='8513523894089077306' usage=CompletionUsage(prompt_tokens=986, completion_tokens=355, total_tokens=1341)\n"
     ]
    }
   ],
   "source": [
    "test=extract_detail_from_html(tt)\n",
    "print(test)"
   ]
  },
  {
   "cell_type": "code",
   "execution_count": 114,
   "metadata": {},
   "outputs": [
    {
     "name": "stdout",
     "output_type": "stream",
     "text": [
      "None\n"
     ]
    }
   ],
   "source": [
    "print(test.choices[0].message.tool_calls)"
   ]
  },
  {
   "cell_type": "code",
   "execution_count": 102,
   "metadata": {},
   "outputs": [
    {
     "name": "stdout",
     "output_type": "stream",
     "text": [
      "根据您提供的招标公告内容，以下是提取的招标相关信息：\n",
      "\n",
      "- 项目名称：开平市国际卫浴创新基地产业综合配套工程（一期）全过程工程咨询（勘察、方案及初步设计、监理、全过程造价咨询）\n",
      "- 施工地点：江门市开平市水口镇国际卫浴创新基地内\n",
      "- 施工规模和范围：招标范围及内容涉及全过程造价咨询。一期项目用地面积约25亩（16667平方米），地下室面积约10260平方米，总计容建筑面积约41667平方米。包含高度约40m的人才公寓一栋，高度约70m的员工宿舍一栋，以及食堂超市配套。\n",
      "- 总建筑面积：总计容建筑面积约41667平方米\n",
      "- 总投资额：项目估算总投资72258.65万元，其中一期项目建安工程费约18000万元\n",
      "- 工期：自本项目合同签订之日起，至竣工结算且完成本项目全过程工程服务止（包含所有工程的缺陷责任期）\n",
      "- 监理服务费或最高限价：/\n",
      "- 监理服务费率：/\n",
      "- 企业资质要求：投标人必须具备以下三项的资质\n",
      "- 总监专业要求：总监专业要求内容未提供\n",
      "- 总监职称学历：总监职称学历要求未提供\n",
      "- 总监业绩经验：总监业绩经验要求未提供\n",
      "- 总监限制：总监限制条件未提供\n",
      "- 招标方：开平市水口镇人民政府\n",
      "- 开标时间：2024年4月16日09时30分\n",
      "\n",
      "请注意，部分信息未在您提供的公告中明确，因此留空。如果需要更详细的信息，请提供完整的招标公告内容。\n"
     ]
    }
   ],
   "source": [
    "print(test.choices[0].message.content)"
   ]
  },
  {
   "cell_type": "code",
   "execution_count": 97,
   "metadata": {},
   "outputs": [
    {
     "name": "stderr",
     "output_type": "stream",
     "text": [
      "2024-03-27 00:25:40,963 - INFO - HTTP Request: POST https://open.bigmodel.cn/api/paas/v4/chat/completions \"HTTP/1.1 200 \"\n"
     ]
    },
    {
     "name": "stdout",
     "output_type": "stream",
     "text": [
      "model='glm-4' created=1711470340 choices=[CompletionChoice(index=0, finish_reason='stop', message=CompletionMessage(content='以下是从招标公告中提取的相关信息：\\n\\n- 项目名称：开平市国际卫浴创新基地产业综合配套工程（一期）全过程工程咨询（勘察、方案及初步设计、监理、全过程造价咨询）\\n- 施工地点：江门市开平市水口镇国际卫浴创新基地内\\n- 施工规模和范围：一期项目用地面积约25亩（16667平方米），地下室面积约10260平方米，总计容建筑面积约41667平方米。包含高度约40m的人才公寓一栋，高度约70m的员工宿舍一栋，以及食堂超市配套。\\n- 总建筑面积：总计容建筑面积约41667平方米\\n- 总投资额：项目估算总投资72258.65万元，其中一期项目：建安工程费约18000万元\\n- 工期：自本项目合同签订之日起，至竣工结算且完成本项目全过程工程服务止（包含所有工程的缺陷责任期）\\n- 监理服务费或最高限价：/\\n- 监理服务费率：/\\n- 企业资质要求：投标人必须具备以下三项的资质：...\\n- 总监专业要求：...\\n- 总监职称学历：...\\n- 总监业绩经验：...\\n- 总监限制：...\\n- 招标方：开平市水口镇人民政府\\n- 开标时间：2024年4月16日09 时30分\\n\\n请注意，部分信息可能未在招标公告中提供，因此标记为“/”或留空。如果需要更详细的信息，请提供完整的招标公告内容。', role='assistant', tool_calls=None))] request_id='8513530216281032426' id='8513530216281032426' usage=CompletionUsage(prompt_tokens=1042, completion_tokens=317, total_tokens=1359)\n"
     ]
    }
   ],
   "source": [
    "# 当test.choices[0].message.tool_calls为空时，将test返回结果中的choices[0].message.content重新赋值给tt并再次运行extract_detail_from_html\n",
    "if not test.choices[0].message.tool_calls:\n",
    "    tt = test.choices[0].message.content\n",
    "    testagain = extract_detail_from_html(tt)\n",
    "    print(testagain)\n",
    "\n"
   ]
  },
  {
   "cell_type": "code",
   "execution_count": 98,
   "metadata": {},
   "outputs": [
    {
     "name": "stdout",
     "output_type": "stream",
     "text": [
      "None\n"
     ]
    }
   ],
   "source": [
    "print(testagain.choices[0].message.tool_calls)"
   ]
  }
 ],
 "metadata": {
  "kernelspec": {
   "display_name": "sele",
   "language": "python",
   "name": "python3"
  },
  "language_info": {
   "codemirror_mode": {
    "name": "ipython",
    "version": 3
   },
   "file_extension": ".py",
   "mimetype": "text/x-python",
   "name": "python",
   "nbconvert_exporter": "python",
   "pygments_lexer": "ipython3",
   "version": "3.11.7"
  }
 },
 "nbformat": 4,
 "nbformat_minor": 2
}
