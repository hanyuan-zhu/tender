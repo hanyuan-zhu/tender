{
 "cells": [
  {
   "cell_type": "code",
   "execution_count": null,
   "metadata": {},
   "outputs": [],
   "source": [
    "from zhipuai import ZhipuAI\n",
    "\n",
    "client = ZhipuAI(api_key=\"e6af334544b37a85e83900a9152eb9a0.GzjnBTUhPOhDDJhx\")\n",
    "\n",
    "template = \"\"\"\n",
    "请基于以下公告内容，进行以下分析，确定公告类型，是否为招标/资审公告（即是否包含基本招标信息，如项目名称、项目信息、基本资格要求和投标截止日期等。）\n",
    "\n",
    "[在这里插入公告内容]\n",
    "另附，可能的公告类型\n",
    "- 招标/资审公告：正式邀请符合资格的投标人参与投标的公告，提供拟采购的货物、工程或服务的基本信息、投标条件等。\n",
    "- 公告答疑：对潜在投标人提出的问题给出的官方回答。\n",
    "- 公告变更：对先前发布的招标公告内容进行的正式更改。\n",
    "- 公告暂停：宣布招标过程暂时中断的公告。\n",
    "- 澄清公告：对招标文件中的具体信息进行澄清或修正的公告。\n",
    "- 其他：不属于以上任何一类的特殊公告。\n",
    "        \"\"\"\n",
    "\n",
    "# 清空对话\n",
    "messages = []\n",
    "\n",
    "messages.append({\"role\": \"system\", \"content\": \"\"\"\n",
    "                    \"\"\"})\n",
    "\n",
    "messages.append({\"role\": \"user\", \"content\": html})\n",
    "\n",
    "messages.append({\"role\": \"system\", \"content\": \"请按照以下模版格式化提取信息，并将信息添加到数据表中：\"})\n",
    "\n",
    "messages.append({\"role\": \"system\", \"content\": template})\n",
    "\n",
    "response = client.chat.completions.create(\n",
    "    model=\"glm-4\",  # 填写需要调用的模型名称\n",
    "    messages=messages,\n",
    "    # tools=tools,\n",
    "    top_p=0.7,\n",
    "    temperature=0.5,\n",
    "    max_tokens=4096,\n",
    ")"
   ]
  },
  {
   "cell_type": "code",
   "execution_count": null,
   "metadata": {},
   "outputs": [],
   "source": [
    "# tools = [{\n",
    "#     \"type\": \"function\",\n",
    "#     \"function\": {\n",
    "#         \"name\": \"get_tender_detail\",\n",
    "#         \"description\": \"判断标题是属于什么类型的公告，并插入到数据库。公告类型包括'招标公告'、'资格审核公告'、'公告答疑'、'公告变更'、'公告暂停'、'澄清公告'、'其他'，每个属性的值为布尔值，表示是否匹配，是则ture，否则false\",\n",
    "#         \"parameters\": {\n",
    "#             \"type\": \"object\",\n",
    "#             \"properties\": {\n",
    "#                 \"招标公告\": {\"description\": \"是否为招标公告\", \"type\": \"boolean\"},\n",
    "#                 \"资格审核公告\": {\"description\": \"是否为资格审核公告\", \"type\": \"boolean\"},\n",
    "#                 \"公告答疑\": {\"description\": \"是否为公告答疑\", \"type\": \"boolean\"},\n",
    "#                 \"公告变更\": {\"description\": \"是否为公告变更\", \"type\": \"boolean\"},\n",
    "#                 \"公告暂停\": {\"description\": \"是否为公告暂停\", \"type\": \"boolean\"},\n",
    "#                 \"澄清公告\": {\"description\": \"是否为澄清公告\", \"type\": \"boolean\"},\n",
    "#                 \"其他\": {\"description\": \"是否为其他类型公告\", \"type\": \"boolean\"}\n",
    "#                 },\n",
    "#             \"required\": [\n",
    "#                 '招标公告',\n",
    "#                 '资格审核公告',\n",
    "#                 '公告答疑',\n",
    "#                 '公告变更',\n",
    "#                 '公告暂停',\n",
    "#                 '澄清公告',\n",
    "#                 '其他'\n",
    "#                 ]\n",
    "#             }\n",
    "#         }\n",
    "#     }]\n"
   ]
  },
  {
   "cell_type": "code",
   "execution_count": 180,
   "metadata": {},
   "outputs": [],
   "source": [
    "from zhipuai import ZhipuAI\n",
    "\n",
    "client = ZhipuAI(api_key=\"e6af334544b37a85e83900a9152eb9a0.GzjnBTUhPOhDDJhx\")\n",
    "\n",
    "def tender_categorization(title):\n",
    "    tools = [{\n",
    "        \"type\": \"function\",\n",
    "        \"function\": {\n",
    "            \"name\": \"get_tender_detail\",\n",
    "            \"description\": \"判断标题是属于什么类型的公告，并插入到数据库。\",\n",
    "            \"parameters\": {\n",
    "                \"type\": \"object\",\n",
    "                \"properties\": {\n",
    "                    \"公告类型\": {\"description\": \"公告类型只能是'招标公告'、'资格审核公告'、'答疑公告'、'变更公告'、'澄清公告'和'其他'其中一个，且是唯一类型\", \"type\": \"string\"}\n",
    "                    },\n",
    "                \"required\": [\n",
    "                    '公告类型',\n",
    "                    ]\n",
    "                }\n",
    "            }\n",
    "        }]\n",
    "\n",
    "\n",
    "    # 清空对话\n",
    "    messages = []\n",
    "\n",
    "    messages.append({\"role\": \"system\", \"content\": \"\"\"\n",
    "                    公告类型:\n",
    "                    - 招标公告：正式邀请符合资格的投标人参与投标的公告，提供拟采购的货物、工程或工程服务的基本信息、投标条件等。\n",
    "                    - 资格审核公告：在招标公告发布前，对潜在投标人的资格条件进行审查的过程，旨在确保只有满足条件的投标人能参与投标。\n",
    "                    - 答疑公告：对潜在投标人提出的问题给出的官方回答；若无人提问,则公告无答疑。\n",
    "                    - 变更公告：对先前发布的招标公告内容进行的正式更改,如更改投标截止日期、更改招标文件以及招标的暂停或终止等。\n",
    "                    - 澄清公告：对招标文件中的具体信息进行澄清或修正的公告；若无人提问,则公告无澄清。\n",
    "                    - 其他：不属于以上任何一类的时候。\n",
    "                    \"\"\"})\n",
    "\n",
    "    messages.append({\"role\": \"user\", \"content\": \"请基于以下公告名称，来判断公告类型，并将类型插入数据库：\"})\n",
    "\n",
    "    messages.append({\"role\": \"user\", \"content\": title})\n",
    "\n",
    "    response = client.chat.completions.create(\n",
    "        model=\"glm-4\",  # 填写需要调用的模型名称\n",
    "        messages=messages,\n",
    "        top_p=0.7,\n",
    "        temperature=0.8,\n",
    "        tools=tools,\n",
    "        max_tokens=4096,\n",
    "    )\n",
    "    return response.choices[0].message.tool_calls[0].function.arguments"
   ]
  },
  {
   "cell_type": "code",
   "execution_count": 96,
   "metadata": {},
   "outputs": [
    {
     "name": "stdout",
     "output_type": "stream",
     "text": [
      "{\"公告类型\":\"招标公告\"}\n"
     ]
    }
   ],
   "source": [
    "print(response.choices[0].message.tool_calls[0].function.arguments)"
   ]
  },
  {
   "cell_type": "code",
   "execution_count": 100,
   "metadata": {},
   "outputs": [
    {
     "data": {
      "text/plain": [
       "str"
      ]
     },
     "execution_count": 100,
     "metadata": {},
     "output_type": "execute_result"
    }
   ],
   "source": [
    "type(response.choices[0].message.tool_calls[0].function.arguments)"
   ]
  },
  {
   "cell_type": "code",
   "execution_count": 104,
   "metadata": {},
   "outputs": [
    {
     "data": {
      "text/plain": [
       "'{\"公告类型\":\"招标公告\"}'"
      ]
     },
     "execution_count": 104,
     "metadata": {},
     "output_type": "execute_result"
    }
   ],
   "source": [
    "response.choices[0].message.tool_calls[0].function.model_dump()['arguments']"
   ]
  },
  {
   "cell_type": "code",
   "execution_count": 84,
   "metadata": {},
   "outputs": [
    {
     "name": "stdout",
     "output_type": "stream",
     "text": [
      "None\n"
     ]
    }
   ],
   "source": [
    "print(response.choices[0].message.content)"
   ]
  },
  {
   "cell_type": "code",
   "execution_count": 151,
   "metadata": {},
   "outputs": [],
   "source": [
    "from database_util import TENDER_DETAIL_HTML_TABLE_NAME,TENDER_INFO_TABLE_NAME\n",
    "# def get_cleaned_html(cursor,tender_id):\n",
    "#     select_query = f\"\"\"\n",
    "#     SELECT cleaned_detail_html,original_detail_html,title\n",
    "#     FROM {TENDER_DETAIL_HTML_TABLE_NAME}\n",
    "#     WHERE tender_id = {tender_id}\n",
    "#     \"\"\"\n",
    "#     cursor.execute(select_query)\n",
    "#     return cursor.fetchall()\n",
    "\n",
    "\n",
    "def get_tender_title(cursor):\n",
    "    select_query = f\"\"\"\n",
    "    SELECT id, title\n",
    "    FROM {TENDER_INFO_TABLE_NAME}\n",
    "    WHERE id NOT IN (\n",
    "        SELECT tender_id\n",
    "        FROM announcement_labels\n",
    "    )\n",
    "    \"\"\"\n",
    "    cursor.execute(select_query)\n",
    "    return cursor.fetchall()"
   ]
  },
  {
   "cell_type": "code",
   "execution_count": 152,
   "metadata": {},
   "outputs": [],
   "source": [
    "from database_util import connect_db\n",
    "\n",
    "db = connect_db()\n",
    "cursor = db.cursor()\n",
    "\n"
   ]
  },
  {
   "cell_type": "code",
   "execution_count": 154,
   "metadata": {},
   "outputs": [],
   "source": [
    "def get_announcement_types(cursor):\n",
    "    select_query = \"SELECT id, announcement_type FROM announcement_catalog\"\n",
    "    cursor.execute(select_query)\n",
    "    results = cursor.fetchall()\n",
    "    return {type: id for id, type in results}\n",
    "\n",
    "def insert_into_announcement_labels(cursor, tender_id, type_id):\n",
    "    insert_query = f\"INSERT INTO announcement_labels (tender_id, type_id) VALUES ({tender_id}, {type_id})\"\n",
    "    cursor.execute(insert_query)    \n"
   ]
  },
  {
   "cell_type": "code",
   "execution_count": 159,
   "metadata": {},
   "outputs": [
    {
     "name": "stdout",
     "output_type": "stream",
     "text": [
      "Processing title 1 of 4\n",
      "Processing title 2 of 4\n",
      "Processing title 3 of 4\n",
      "Processing title 4 of 4\n"
     ]
    }
   ],
   "source": [
    "import json\n",
    "# 在程序开始时获取最新的类型列表\n",
    "announcement_types = get_announcement_types(cursor)\n",
    "\n",
    "# 当 tender_categorization 返回一个类型时\n",
    "titles = get_tender_title(cursor)\n",
    "total_titles = len(titles)\n",
    "for i, title in enumerate(titles):\n",
    "    try:\n",
    "        print(f\"Processing title {i+1} of {total_titles}\")\n",
    "        type_temp = tender_categorization(title[1])\n",
    "        tender_title_type = json.loads(type_temp.replace(\"'\", \"\\\"\"))\n",
    "        announcement_type = tender_title_type['公告类型']\n",
    "\n",
    "        # 获取相应的 id\n",
    "        type_id = announcement_types[announcement_type]\n",
    "\n",
    "        # 插入到 announcement_labels 表中\n",
    "        insert_into_announcement_labels(cursor, title[0], type_id)\n",
    "    except Exception as e:\n",
    "        print(f\"Error processing title {title[0]}: {e}, title is {title[1]}\")\n",
    "        continue\n",
    "\n",
    "# 在所有插入操作完成后提交事务\n",
    "db.commit()"
   ]
  },
  {
   "cell_type": "code",
   "execution_count": 175,
   "metadata": {},
   "outputs": [],
   "source": [
    "def get_titles_with_other_type(cursor):\n",
    "    # 从数据库中获取类型为 \"其他\" 的标题\n",
    "    cursor.execute(\"\"\"\n",
    "        SELECT a.tender_id, t.title \n",
    "        FROM announcement_labels AS a\n",
    "        JOIN tender_index AS t ON a.tender_id = t.id\n",
    "        WHERE a.type_id = (SELECT id FROM announcement_catalog WHERE announcement_type = '其他')\n",
    "    \"\"\")\n",
    "    return cursor.fetchall()\n",
    "\n",
    "def reprocess_and_update_titles(cursor, db, titles, announcement_catalog):\n",
    "    for title in titles:\n",
    "        try:\n",
    "            # 重新处理标题\n",
    "            type_temp = tender_categorization(title[1])\n",
    "            tender_title_type = json.loads(type_temp.replace(\"'\", \"\\\"\"))\n",
    "            announcement_type = tender_title_type['公告类型']\n",
    "\n",
    "            # 如果类型不再是 \"其他\"，则更新数据库\n",
    "            if announcement_type != '其他':\n",
    "                type_id = announcement_catalog[announcement_type]\n",
    "                print(f\"type_id: {type_id}, title[0]: {title[0]}\")  # 打印 type_id 和 title[0] 的值\n",
    "                cursor.execute(\"UPDATE announcement_labels SET type_id = %s WHERE tender_id = %s\", (type_id, title[0]))\n",
    "                print(f\"Title '{title[1]}' was updated. New type is '{announcement_type}'\")\n",
    "            else:\n",
    "                print(f\"Title '{title[1]}' was not updated. Type remains '其他'\")\n",
    "        except Exception as e:\n",
    "            print(f\"Error reprocessing title {title[0]}: {e}, title is {title[1]}\")\n",
    "            continue\n",
    "\n",
    "    # 在所有更新操作完成后提交事务\n",
    "    db.commit()"
   ]
  },
  {
   "cell_type": "code",
   "execution_count": 181,
   "metadata": {},
   "outputs": [
    {
     "name": "stdout",
     "output_type": "stream",
     "text": [
      "Title '东莞市供水设施更新改造项目-东莞市供水管网更新改造二期工程（虎门、厚街标段）监理结果公告' was not updated. Type remains '其他'\n",
      "Title '年产食品塑料包装20万件项目监理无答疑说明及澄清文件' was not updated. Type remains '其他'\n"
     ]
    }
   ],
   "source": [
    "\n",
    "# 使用 get_titles_with_other_type 函数获取类型为 \"其他\" 的标题\n",
    "titles_with_other_type = get_titles_with_other_type(cursor)\n",
    "\n",
    "# 使用 reprocess_and_update_titles 函数重新处理这些标题并更新数据库\n",
    "reprocess_and_update_titles(cursor, db, titles_with_other_type, announcement_types)"
   ]
  }
 ],
 "metadata": {
  "kernelspec": {
   "display_name": "tender",
   "language": "python",
   "name": "python3"
  },
  "language_info": {
   "codemirror_mode": {
    "name": "ipython",
    "version": 3
   },
   "file_extension": ".py",
   "mimetype": "text/x-python",
   "name": "python",
   "nbconvert_exporter": "python",
   "pygments_lexer": "ipython3",
   "version": "3.11.7"
  }
 },
 "nbformat": 4,
 "nbformat_minor": 2
}
