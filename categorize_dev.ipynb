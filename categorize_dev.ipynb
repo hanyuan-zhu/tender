{
 "cells": [
  {
   "cell_type": "code",
   "execution_count": null,
   "metadata": {},
   "outputs": [],
   "source": [
    "from zhipuai import ZhipuAI\n",
    "\n",
    "client = ZhipuAI(api_key=\"e6af334544b37a85e83900a9152eb9a0.GzjnBTUhPOhDDJhx\")\n",
    "\n",
    "template = \"\"\"\n",
    "        \"\"\"\n",
    "\n",
    "# 清空对话\n",
    "messages = []\n",
    "\n",
    "messages.append({\"role\": \"system\", \"content\": \"\"\"\n",
    "                    \"\"\"})\n",
    "\n",
    "messages.append({\"role\": \"user\", \"content\": html})\n",
    "\n",
    "messages.append({\"role\": \"system\", \"content\": \"请按照以下模版格式化提取信息，并将信息添加到数据表中：\"})\n",
    "\n",
    "messages.append({\"role\": \"system\", \"content\": template})\n",
    "\n",
    "response = client.chat.completions.create(\n",
    "    model=\"glm-4\",  # 填写需要调用的模型名称\n",
    "    messages=messages,\n",
    "    # tools=tools,\n",
    "    top_p=0.7,\n",
    "    temperature=0.5,\n",
    "    max_tokens=4096,\n",
    ")"
   ]
  },
  {
   "cell_type": "code",
   "execution_count": null,
   "metadata": {},
   "outputs": [],
   "source": [
    "from database_util import TENDER_DETAIL_HTML_TABLE_NAME\n",
    "def get_cleaned_html(cursor,tender_id):\n",
    "    select_query = f\"\"\"\n",
    "    SELECT cleaned_detail_html,original_detail_html,title\n",
    "    FROM {TENDER_DETAIL_HTML_TABLE_NAME}\n",
    "    WHERE tender_id = {tender_id}\n",
    "    \"\"\"\n",
    "    cursor.execute(select_query)\n",
    "    return cursor.fetchall()"
   ]
  },
  {
   "cell_type": "code",
   "execution_count": null,
   "metadata": {},
   "outputs": [],
   "source": [
    "from database_util import connect_db\n",
    "\n",
    "db = connect_db()\n",
    "cursor = db.cursor()\n",
    "\n",
    "# 获取 tender_id 为 n的招标公告的 HTML\n",
    "tender_id = 4\n",
    "cleaned_html = get_cleaned_html(cursor,tender_id)[0][0]\n",
    "original_html = get_cleaned_html(cursor,tender_id)[0][1]\n",
    "title = get_cleaned_html(cursor,tender_id)[0][2]"
   ]
  }
 ],
 "metadata": {
  "language_info": {
   "name": "python"
  }
 },
 "nbformat": 4,
 "nbformat_minor": 2
}
