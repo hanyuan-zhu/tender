{
 "cells": [
  {
   "cell_type": "code",
   "execution_count": 94,
   "metadata": {},
   "outputs": [],
   "source": [
    "# 先从 将来 for loop的一个entry开始，用 tender_id = 23 作为例子\n",
    "\n",
    "from database_util import connect_db, get_cleaned_html\n",
    "\n",
    "db = connect_db()\n",
    "\n",
    "# 创建游标\n",
    "cursor = db.cursor()\n",
    "\n",
    "\n",
    "# 这里是for loop的一个entry，也就是起点\n",
    "tender_id = 23\n",
    "\n",
    "# 获取待分析的HTML\n",
    "cleaned_html = get_cleaned_html(cursor,tender_id)\n",
    "\n",
    "# 开始写一个ai function，用来分析HTML，根据模版，输出一个dict\n",
    "# 这个function 输入是 cleaned_html，输出是一个dict\n",
    "\n",
    "# 但是我也要给 ai agent写一个tool function，按照模版，输出dict，输入就是输出。\n",
    "def get_tender_detail(tender_document_start_time, tender_document_end_time, question_deadline, answer_announcement_time, bid_submission_deadline, bid_opening_time, tenderer, tender_contact, contact_phone, tender_agency, tender_agency_contact, tender_agency_contact_phone, supervision_qualification_requirement, chief_supervisor_qualification_requirement, consortium_bidding_requirement, project_name, investment_project_code, tender_project_name, implementation_site, funding_source, tender_scope_and_scale, duration, maximum_bid_price, qualification_review_method):\n",
    "    return {\n",
    "        \"tender_document_start_time\": tender_document_start_time,\n",
    "        \"tender_document_end_time\": tender_document_end_time,\n",
    "        \"question_deadline\": question_deadline,\n",
    "        \"answer_announcement_time\": answer_announcement_time,\n",
    "        \"bid_submission_deadline\": bid_submission_deadline,\n",
    "        \"bid_opening_time\": bid_opening_time,\n",
    "        \"tenderer\": tenderer,\n",
    "        \"tender_contact\": tender_contact,\n",
    "        \"contact_phone\": contact_phone,\n",
    "        \"tender_agency\": tender_agency,\n",
    "        \"tender_agency_contact\": tender_agency_contact,\n",
    "        \"tender_agency_contact_phone\": tender_agency_contact_phone,\n",
    "        \"supervision_qualification_requirement\": supervision_qualification_requirement,\n",
    "        \"chief_supervisor_qualification_requirement\": chief_supervisor_qualification_requirement,\n",
    "        \"consortium_bidding_requirement\": consortium_bidding_requirement,\n",
    "        \"project_name\": project_name,\n",
    "        \"investment_project_code\": investment_project_code,\n",
    "        \"tender_project_name\": tender_project_name,\n",
    "        \"implementation_site\": implementation_site,\n",
    "        \"funding_source\": funding_source,\n",
    "        \"tender_scope_and_scale\": tender_scope_and_scale,\n",
    "        \"duration\": duration,\n",
    "        \"maximum_bid_price\": maximum_bid_price,\n",
    "        \"qualification_review_method\": qualification_review_method\n",
    "    }\n",
    "\n",
    "\n",
    "# 关闭游标和数据库连接\n",
    "cursor.close()\n",
    "db.close()\n",
    "\n",
    "\n",
    "\n"
   ]
  },
  {
   "cell_type": "code",
   "execution_count": 100,
   "metadata": {},
   "outputs": [],
   "source": [
    "from zhipuai import ZhipuAI\n",
    "\n",
    "# 现在才开始写这个ai function，输入是cleaned_html，然后爬取后，利用上面的tool function，输出一个dict\n",
    "def extract_detail_from_html(cleaned_html):\n",
    "\n",
    "    client = ZhipuAI(api_key=\"8d55d03f87e0ff621db27c37325c516d.4Ck0uvE4M1xYW8HB\")\n",
    "    tools = [\n",
    "    {\n",
    "        \"type\": \"function\",\n",
    "        \"function\": {\n",
    "            \"name\": \"get_tender_detail\",\n",
    "            \"description\": \"将招标详细信息插入到数据库中\",\n",
    "            \"parameters\": {\n",
    "                \"type\": \"object\",\n",
    "                \"properties\": {\n",
    "                    \"tender_document_start_time\": {\"description\": \"获取招标文件开始时间\", \"type\": \"string\"},\n",
    "                    \"tender_document_end_time\": {\"description\": \"获取招标文件截止时间\", \"type\": \"string\"},\n",
    "                    \"question_deadline\": {\"description\": \"提疑截止时间\", \"type\": \"string\"},\n",
    "                    \"answer_announcement_time\": {\"description\": \"答疑公告时间\", \"type\": \"string\"},\n",
    "                    \"bid_submission_deadline\": {\"description\": \"递交投标文件截止时间\", \"type\": \"string\"},\n",
    "                    \"bid_opening_time\": {\"description\": \"开标时间\", \"type\": \"string\"},\n",
    "                    \"tenderer\": {\"description\": \"招标人\", \"type\": \"string\"},\n",
    "                    \"tender_contact\": {\"description\": \"招标人联系人\", \"type\": \"string\"},\n",
    "                    \"contact_phone\": {\"description\": \"联系电话\", \"type\": \"string\"},\n",
    "                    \"tender_agency\": {\"description\": \"招标代理机构\", \"type\": \"string\"},\n",
    "                    \"tender_agency_contact\": {\"description\": \"招标代理联系人\", \"type\": \"string\"},\n",
    "                    \"tender_agency_contact_phone\": {\"description\": \"招标代理联系电话\", \"type\": \"string\"},\n",
    "                    \"supervision_qualification_requirement\": {\"description\": \"监理资质要求\", \"type\": \"string\"},\n",
    "                    \"chief_supervisor_qualification_requirement\": {\"description\": \"总监理工程师资格要求\", \"type\": \"string\"},\n",
    "                    \"consortium_bidding_requirement\": {\"description\": \"联合体投标要求\", \"type\": \"string\"},\n",
    "                    \"project_name\": {\"description\": \"项目名称\", \"type\": \"string\"},\n",
    "                    \"investment_project_code\": {\"description\": \"投资项目代码\", \"type\": \"string\"},\n",
    "                    \"tender_project_name\": {\"description\": \"招标项目名称\", \"type\": \"string\"},\n",
    "                    \"implementation_site\": {\"description\": \"实施地点\", \"type\": \"string\"},\n",
    "                    \"funding_source\": {\"description\": \"资金来源\", \"type\": \"string\"},\n",
    "                    \"tender_scope_and_scale\": {\"description\": \"招标范围及规模\", \"type\": \"string\"},\n",
    "                    \"duration\": {\"description\": \"工期\", \"type\": \"string\"},\n",
    "                    \"maximum_bid_price\": {\"description\": \"最高投标限价\", \"type\": \"number\"},\n",
    "                    \"qualification_review_method\": {\"description\": \"资格审查方式\", \"type\":  \"string\"}\n",
    "                    },\n",
    "                \"required\": [\n",
    "                    \"tenderer\",\n",
    "                    \"tender_contact\",\n",
    "                    \"contact_phone\",\n",
    "                    \"tender_agency\",\n",
    "                    \"tender_agency_contact\",\n",
    "                    \"tender_agency_contact_phone\",\n",
    "                    \"supervision_qualification_requirement\",\n",
    "                    \"chief_supervisor_qualification_requirement\",\n",
    "                    \"consortium_bidding_requirement\",\n",
    "                    \"project_name\",\n",
    "                    \"investment_project_code\",\n",
    "                    \"tender_project_name\",\n",
    "                    \"funding_source\",\n",
    "                    \"tender_scope_and_scale\",\n",
    "                    \"duration\",\n",
    "                    \"maximum_bid_price\",\n",
    "                    \"qualification_review_method\"\n",
    "                    ]\n",
    "                }\n",
    "            }\n",
    "        }\n",
    "    ]\n",
    "\n",
    "    # 清空对话\n",
    "    messages = []\n",
    "\n",
    "    messages.append({\"role\": \"system\", \"content\": \"从下面的招标公告html中，将招标详细信息提出出来，插入数据库。\"})\n",
    "    messages.append({\"role\": \"user\", \"content\":\"\"\"\n",
    "                    招标公告 HTML:\n",
    "                    \"\"\"})\n",
    "\n",
    "    messages.append({\"role\": \"user\", \"content\": cleaned_html})\n",
    "\n",
    "    response = client.chat.completions.create(\n",
    "        model=\"glm-4\",  # 填写需要调用的模型名称\n",
    "        messages=messages,\n",
    "        tools=tools,\n",
    "        top_p=0.7,\n",
    "        temperature=0.2,\n",
    "        max_tokens=4096,\n",
    "    )\n",
    "    return response\n"
   ]
  },
  {
   "cell_type": "code",
   "execution_count": 101,
   "metadata": {},
   "outputs": [
    {
     "name": "stdout",
     "output_type": "stream",
     "text": [
      "model='glm-4' created=1709047879 choices=[CompletionChoice(index=0, finish_reason='stop', message=CompletionMessage(content='17:30</td>\\n<th>招标人澄清问题截止时间</th>\\n<td>2024-03-01 17:30</td>\\n</tr>\\n<tr>\\n<th>投标文件递交截止时间</th>\\n<td>2024-03-15 09:30</td>\\n<th>投标保证金递交截止时间</th>\\n<td>2024-03-15 09:30</td>\\n</tr>\\n<tr>\\n<th>开标时间</th>\\n<td>2024-03-15 09:30</td>\\n</tr>\\n</table>\\n</div>\\n', role='assistant', tool_calls=None))] request_id='8426530499720741234' id='8426530499720741234' usage=CompletionUsage(prompt_tokens=4096, completion_tokens=125, total_tokens=4221)\n"
     ]
    }
   ],
   "source": [
    "result = extract_detail_from_html(cleaned_html)\n",
    "\n",
    "print(result)"
   ]
  },
  {
   "cell_type": "code",
   "execution_count": 93,
   "metadata": {},
   "outputs": [],
   "source": [
    "    # messages.append({\"role\": \"system\", \"content\": \" 模版如下：\"})\n",
    "\n",
    "    # messages.append({\"role\": \"system\", \"content\":\"\"\"\n",
    "    #                 项目基本信息：\n",
    "    #                 - 项目ID (整型): 唯一标识符\n",
    "    #                 - 项目名称 (字符串): 详细的项目名称\n",
    "    #                 - 投资项目代码 (字符串): 项目的唯一代码\n",
    "    #                 - 招标项目名称 (字符串): 招标的详细名称\n",
    "    #                 - 实施地点 (字符串): 具体的项目实施地点\n",
    "    #                 - 资金来源 (字符串): 项目资金的来源说明\n",
    "    #                 - 招标范围及规模 (文本): 详细的范围和规模描述\n",
    "    #                 - 工期 (字符串): 工程预计完成时间\n",
    "    #                 - 最高投标限价 (浮点数): 投标的最高价格限制\n",
    "    #                 - 资格审查方式 (字符串): 资格审查的具体方法\n",
    "\n",
    "    #                 投标人资格要求：\n",
    "    #                 - 监理资质要求 (文本): 监理相关的资质要求\n",
    "    #                 - 总监理工程师资格要求 (文本): 总监理工程师的资格条件\n",
    "    #                 - 联合体投标要求 (文本): 关于联合体投标的具体要求\n",
    "\n",
    "    #                 招标人和投标人信息：\n",
    "    #                 - 招标人 (字符串): 招标方的名称\n",
    "    #                 - 招标人联系人 (字符串): 招标方的联系人姓名\n",
    "    #                 - 联系电话 (字符串): 联系人的电话号码\n",
    "    #                 - 招标代理机构 (字符串): 被委托的招标代理机构名称\n",
    "    #                 - 招标代理联系人 (字符串): 招标代理的联系人姓名\n",
    "    #                 - 招标代理联系电话 (字符串): 招标代理联系人的电话号码\n",
    "\n",
    "    #                 投标时间表信息：\n",
    "    #                 - 获取招标文件开始时间 (字符串): 开始时间以年月日时分表示\n",
    "    #                 - 获取招标文件截止时间 (字符串): 截止时间以年月日时分表示\n",
    "    #                 - 提疑截止时间 (字符串): 提出疑问的截止时间以年月日时分表示\n",
    "    #                 - 答疑公告时间 (字符串): 答疑公告的发布时间以年月日时分表示\n",
    "    #                 - 递交投标文件截止时间 (字符串): 提交投标文件的截止时间以年月日时分表示\n",
    "    #                 - 开标时间 (字符串): 开标仪式的具体时间以年月日时分表示\n",
    "    #                 \"\"\"})\n",
    "\n"
   ]
  },
  {
   "cell_type": "code",
   "execution_count": 83,
   "metadata": {},
   "outputs": [
    {
     "data": {
      "text/plain": [
       "CompletionMessage(content='09:30</td>\\n</tr>\\n</tbody>\\n</table>\\n</div>\\n<div>\\n<p>  </p>\\n</div>\\n\\n                 项目基本信息：\\n                - 项目ID (整型): 信息缺失\\n                - 项目名称 (字符串): 孙中山纪念堂加固修缮工程\\n                - 投资项目代码 (字符串): 2201-442000-04-01-707876\\n                - 招标项目名称 (字符串): 孙中山纪念堂加固修缮工程监理\\n                - 实施地点 (字符串): 中山市石岐街道孙文中路188号\\n                - 资金来源 (字符串): 市财政资金、郭得胜基金\\n                - 招标范围及规模 (文本): 孙中山纪念堂加固修缮工程项目位于中山市石岐街道孙文中路188号，总用地面积合计29082.5平方米，建筑面积为9327.35平方米。主要包括：加固纪念堂建筑结构；修复建筑外墙、屋顶及修缮室内的序幕大厅、展厅、剧场、舞台、后台等；更换供配电、给排水、空调通风、消防、建筑智能系统的老化设备；对建筑物进行整体恢复性装修。项目共14栋建（构）筑物，包括13栋修缮建筑和1栋新建消防水池。立项总投资为6597.3587万元，概算建筑安装工程费为5901.30万元，本次招标监理费总报价上限为106.61万元。\\n                - 工期 (字符串): 施工阶段监理工作期限暂定390个日历天，保修阶段监理工作期限24个月。\\n                - 最高投标限价 (浮点数): 1066100.00元\\n                - 资格审查方式 (字符串): 资格后审\\n\\n                投标人资格要求：\\n                - 监理资质要求 (文本): 具备有效的工程监理综合资质且文物保护工程监理乙级或以上资质，或房屋建筑工程监理乙级或以上资质且文物保护工程监理乙级或以上资质\\n                - 总监理工程师资格要求 (文本): 信息缺失\\n                - 联合体投标要求 (文本): 本项目不接受联合体投标\\n\\n                招标人和投标人信息：\\n                - 招标人 (字符串): 中山市代建项目管理办公室\\n                - 招标人联系人 (字符串): 刘敏慧\\n                - 联系电话 (字符串): 0760-88232389\\n                - 招标代理机构 (字符串): 广东猎德工程咨询有限公司\\n                - 招标代理联系人 (字符串): 刘灿洪、何林桂\\n                - 招标代理联系电话 (字符串): 0760-89993221、15876098160\\n\\n                投标时间表信息：\\n                - 获取招标文件开始时间 (字符串): 2024-02-08 17:30\\n                - 获取招标文件截止时间 (字符串): 2024-02-26 17:30\\n                - 提疑截止时间 (字符串): 2024-02-27 17:00\\n                - 答疑公告时间 (字符串): 2024-03-01 17:30\\n                - 递交投标文件截止时间 (字符串): 2024-03-18 09:30\\n                - 开标时间 (字符串): 2024-03-18 09:30\\n\\n                ', role='assistant', tool_calls=None)"
      ]
     },
     "execution_count": 83,
     "metadata": {},
     "output_type": "execute_result"
    }
   ],
   "source": [
    "response.choices[0].message"
   ]
  },
  {
   "cell_type": "code",
   "execution_count": 84,
   "metadata": {},
   "outputs": [
    {
     "name": "stdout",
     "output_type": "stream",
     "text": [
      "09:30</td>\n",
      "</tr>\n",
      "</tbody>\n",
      "</table>\n",
      "</div>\n",
      "<div>\n",
      "<p>  </p>\n",
      "</div>\n",
      "\n",
      "                 项目基本信息：\n",
      "                - 项目ID (整型): 信息缺失\n",
      "                - 项目名称 (字符串): 孙中山纪念堂加固修缮工程\n",
      "                - 投资项目代码 (字符串): 2201-442000-04-01-707876\n",
      "                - 招标项目名称 (字符串): 孙中山纪念堂加固修缮工程监理\n",
      "                - 实施地点 (字符串): 中山市石岐街道孙文中路188号\n",
      "                - 资金来源 (字符串): 市财政资金、郭得胜基金\n",
      "                - 招标范围及规模 (文本): 孙中山纪念堂加固修缮工程项目位于中山市石岐街道孙文中路188号，总用地面积合计29082.5平方米，建筑面积为9327.35平方米。主要包括：加固纪念堂建筑结构；修复建筑外墙、屋顶及修缮室内的序幕大厅、展厅、剧场、舞台、后台等；更换供配电、给排水、空调通风、消防、建筑智能系统的老化设备；对建筑物进行整体恢复性装修。项目共14栋建（构）筑物，包括13栋修缮建筑和1栋新建消防水池。立项总投资为6597.3587万元，概算建筑安装工程费为5901.30万元，本次招标监理费总报价上限为106.61万元。\n",
      "                - 工期 (字符串): 施工阶段监理工作期限暂定390个日历天，保修阶段监理工作期限24个月。\n",
      "                - 最高投标限价 (浮点数): 1066100.00元\n",
      "                - 资格审查方式 (字符串): 资格后审\n",
      "\n",
      "                投标人资格要求：\n",
      "                - 监理资质要求 (文本): 具备有效的工程监理综合资质且文物保护工程监理乙级或以上资质，或房屋建筑工程监理乙级或以上资质且文物保护工程监理乙级或以上资质\n",
      "                - 总监理工程师资格要求 (文本): 信息缺失\n",
      "                - 联合体投标要求 (文本): 本项目不接受联合体投标\n",
      "\n",
      "                招标人和投标人信息：\n",
      "                - 招标人 (字符串): 中山市代建项目管理办公室\n",
      "                - 招标人联系人 (字符串): 刘敏慧\n",
      "                - 联系电话 (字符串): 0760-88232389\n",
      "                - 招标代理机构 (字符串): 广东猎德工程咨询有限公司\n",
      "                - 招标代理联系人 (字符串): 刘灿洪、何林桂\n",
      "                - 招标代理联系电话 (字符串): 0760-89993221、15876098160\n",
      "\n",
      "                投标时间表信息：\n",
      "                - 获取招标文件开始时间 (字符串): 2024-02-08 17:30\n",
      "                - 获取招标文件截止时间 (字符串): 2024-02-26 17:30\n",
      "                - 提疑截止时间 (字符串): 2024-02-27 17:00\n",
      "                - 答疑公告时间 (字符串): 2024-03-01 17:30\n",
      "                - 递交投标文件截止时间 (字符串): 2024-03-18 09:30\n",
      "                - 开标时间 (字符串): 2024-03-18 09:30\n",
      "\n",
      "                \n"
     ]
    }
   ],
   "source": [
    "tender_list = response.choices[0].message.model_dump()['content']\n",
    "\n",
    "print(tender_list)"
   ]
  },
  {
   "cell_type": "code",
   "execution_count": 85,
   "metadata": {},
   "outputs": [],
   "source": [
    "# pip install zhipuai 请先在终端进行安装\n",
    "\n",
    "\n",
    "# 清空对话\n",
    "messages = []\n",
    "\n",
    "messages.append({\"role\": \"system\", \"content\": \" 将下面招标公告清单信息插入到数据库中\"})\n",
    "\n",
    "messages.append({\"role\": \"user\", \"content\": tender_list})\n",
    "\n",
    "response_temp = client.chat.completions.create(\n",
    "    model=\"glm-4\",  # 填写需要调用的模型名称\n",
    "    messages=messages,\n",
    "    tools=tools,\n",
    "    top_p=0.7,\n",
    "    temperature=0.2,\n",
    "    max_tokens=4096,\n",
    ")\n"
   ]
  },
  {
   "cell_type": "code",
   "execution_count": 89,
   "metadata": {},
   "outputs": [
    {
     "data": {
      "text/plain": [
       "{'content': None,\n",
       " 'role': 'assistant',\n",
       " 'tool_calls': [{'id': 'call_8426529984324635676',\n",
       "   'function': {'arguments': '{\"answer_announcement_time\":\"2024-03-01 17:30\",\"bid_opening_time\":\"2024-03-18 09:30\",\"bid_submission_deadline\":\"2024-03-18 09:30\",\"chief_supervisor_qualification_requirement\":\"信息缺失\",\"consortium_bidding_requirement\":\"本项目不接受联合体投标\",\"contact_phone\":\"0760-88232389\",\"duration\":\"施工阶段监理工作期限暂定390个日历天，保修阶段监理工作期限24个月\",\"funding_source\":\"市财政资金、郭得胜基金\",\"implementation_site\":\"中山市石岐街道孙文中路188号\",\"investment_project_code\":\"2201-442000-04-01-707876\",\"maximum_bid_price\":1066100,\"project_name\":\"孙中山纪念堂加固修缮工程\",\"qualification_review_method\":\"资格后审\",\"question_deadline\":\"2024-02-27 17:00\",\"supervision_qualification_requirement\":\"具备有效的工程监理综合资质且文物保护工程监理乙级或以上资质，或房屋建筑工程监理乙级或以上资质且文物保护工程监理乙级或以上资质\",\"tender_agency\":\"广东猎德工程咨询有限公司\",\"tender_agency_contact\":\"刘灿洪、何林桂\",\"tender_agency_contact_phone\":\"0760-89993221、15876098160\",\"tender_contact\":\"刘敏慧\",\"tender_document_end_time\":\"2024-02-26 17:30\",\"tender_document_start_time\":\"2024-02-08 17:30\",\"tender_project_name\":\"孙中山纪念堂加固修缮工程监理\",\"tender_scope_and_scale\":\"孙中山纪念堂加固修缮工程项目位于中山市石岐街道孙文中路188号，总用地面积合计29082.5平方米，建筑面积为9327.35平方米。主要包括：加固纪念堂建筑结构；修复建筑外墙、屋顶及修缮室内的序幕大厅、展厅、剧场、舞台、后台等；更换供配电、给排水、空调通风、消防、建筑智能系统的老化设备；对建筑物进行整体恢复性装修。项目共14栋建（构）筑物，包括13栋修缮建筑和1栋新建消防水池。立项总投资为6597.3587万元，概算建筑安装工程费为5901.30万元，本次招标监理费总报价上限为106.61万元。\",\"tenderer\":\"中山市代建项目管理办公室\"}',\n",
       "    'name': 'insert_detail_data'},\n",
       "   'type': 'function'}]}"
      ]
     },
     "execution_count": 89,
     "metadata": {},
     "output_type": "execute_result"
    }
   ],
   "source": [
    "response_temp.choices[0].message.model_dump()"
   ]
  },
  {
   "cell_type": "code",
   "execution_count": 87,
   "metadata": {},
   "outputs": [
    {
     "name": "stdout",
     "output_type": "stream",
     "text": [
      "None\n"
     ]
    }
   ],
   "source": [
    "tender_list = response_temp.choices[0].message.model_dump()['content']\n",
    "\n",
    "print(tender_list)"
   ]
  },
  {
   "cell_type": "code",
   "execution_count": null,
   "metadata": {},
   "outputs": [],
   "source": [
    "from config import TENDER_DETAIL_TABLE_NAME\n",
    "\n",
    "def insert_detail_data(ID，data):\n",
    "    \"\"\"\n",
    "    将招标详细信息插入到数据库中。\n",
    "    参数:\n",
    "    - data: tuple, 要插入的数据，预期为一个元组，包含所有必要的招标详细信息字段。\n",
    "    \"\"\"\n",
    "    tender_id = 23\n",
    "\n",
    "    connection = connect_db()\n",
    "    if connection is not None:\n",
    "        try:\n",
    "            cursor = connection.cursor()\n",
    "            insert_query = f\"\"\"\n",
    "            INSERT INTO {TENDER_DETAIL_TABLE_NAME} (tender_id, tender_document_start_time, tender_document_end_time, question_deadline, answer_announcement_time, bid_submission_deadline, bid_opening_time, tenderer, tender_contact, contact_phone, tender_agency, tender_agency_contact, tender_agency_contact_phone, supervision_qualification_requirement, business_license_requirement, chief_supervisor_qualification_requirement, consortium_bidding_requirement, project_name, investment_project_code, tender_project_name, implementation_site, funding_source, tender_scope_and_scale, duration, maximum_bid_price, qualification_review_method)\n",
    "            VALUES (%s, %s, %s, %s, %s, %s, %s, %s, %s, %s, %s, %s, %s, %s, %s, %s, %s, %s, %s, %s, %s, %s, %s, %s, %s, %s)\n",
    "            \"\"\"\n",
    "            # 为了匹配SQL插入语句，我们需要将 tender_id 添加到 data 元组的开头\n",
    "            complete_data = (tender_id,) + data\n",
    "            cursor.execute(insert_query, complete_data)\n",
    "            connection.commit()\n",
    "        except Error as e:\n",
    "            print(f\"Error: {e}\")\n",
    "            connection.rollback()\n",
    "        finally:\n",
    "            cursor.close()\n",
    "            connection.close()\n"
   ]
  },
  {
   "cell_type": "code",
   "execution_count": null,
   "metadata": {},
   "outputs": [],
   "source": [
    "from config import TENDER_DETAIL_TABLE_NAME\n",
    "\n",
    "def insert_detail_data(data):\n",
    "    \"\"\"\n",
    "    将招标详细信息插入到数据库中。\n",
    "    参数:\n",
    "    - data: tuple, 要插入的数据，预期为一个元组，包含所有必要的招标详细信息字段。\n",
    "    \"\"\"\n",
    "    tender_id = 23\n",
    "\n",
    "    connection = connect_db()\n",
    "    if connection is not None:\n",
    "        try:\n",
    "            cursor = connection.cursor()\n",
    "            insert_query = f\"\"\"\n",
    "            INSERT INTO {TENDER_DETAIL_TABLE_NAME} (tender_id, tender_document_start_time, tender_document_end_time, question_deadline, answer_announcement_time, bid_submission_deadline, bid_opening_time, tenderer, tender_contact, contact_phone, tender_agency, tender_agency_contact, tender_agency_contact_phone, supervision_qualification_requirement, business_license_requirement, chief_supervisor_qualification_requirement, consortium_bidding_requirement, project_name, investment_project_code, tender_project_name, implementation_site, funding_source, tender_scope_and_scale, duration, maximum_bid_price, qualification_review_method)\n",
    "            VALUES (%s, %s, %s, %s, %s, %s, %s, %s, %s, %s, %s, %s, %s, %s, %s, %s, %s, %s, %s, %s, %s, %s, %s, %s, %s, %s)\n",
    "            \"\"\"\n",
    "            # 为了匹配SQL插入语句，我们需要将 tender_id 添加到 data 元组的开头\n",
    "            complete_data = (tender_id,) + data\n",
    "            cursor.execute(insert_query, complete_data)\n",
    "            connection.commit()\n",
    "        except Error as e:\n",
    "            print(f\"Error: {e}\")\n",
    "            connection.rollback()\n",
    "        finally:\n",
    "            cursor.close()\n",
    "            connection.close()\n"
   ]
  },
  {
   "cell_type": "code",
   "execution_count": 38,
   "metadata": {},
   "outputs": [
    {
     "data": {
      "text/plain": [
       "{'content': None,\n",
       " 'role': 'assistant',\n",
       " 'tool_calls': [{'id': 'call_8426535207005064882',\n",
       "   'function': {'arguments': '{\"date\":\"2024-01-01\",\"departure\":\"北京南站\",\"destination\":\"上海\"}',\n",
       "    'name': 'query_train_info'},\n",
       "   'type': 'function'}]}"
      ]
     },
     "execution_count": 38,
     "metadata": {},
     "output_type": "execute_result"
    }
   ],
   "source": [
    "# print(response.choices[0].message)\n",
    "\n",
    "response.choices[0].message.model_dump()"
   ]
  },
  {
   "cell_type": "code",
   "execution_count": 36,
   "metadata": {},
   "outputs": [
    {
     "data": {
      "text/plain": [
       "'{\"date\":\"2024-01-01\",\"departure\":\"北京南站\",\"destination\":\"上海\"}'"
      ]
     },
     "execution_count": 36,
     "metadata": {},
     "output_type": "execute_result"
    }
   ],
   "source": [
    "response.choices[0].message.model_dump()['tool_calls'][0]['function']['arguments']\n",
    "# import json\n",
    "\n",
    "# temp = response.choices[0].message.tool_calls[0].function.arguments\n",
    "# print(temp)\n",
    "\n",
    "# tempp = json.loads(temp)\n",
    "\n",
    "# tempp[\"date\"]"
   ]
  }
 ],
 "metadata": {
  "kernelspec": {
   "display_name": "tender",
   "language": "python",
   "name": "python3"
  },
  "language_info": {
   "codemirror_mode": {
    "name": "ipython",
    "version": 3
   },
   "file_extension": ".py",
   "mimetype": "text/x-python",
   "name": "python",
   "nbconvert_exporter": "python",
   "pygments_lexer": "ipython3",
   "version": "3.11.7"
  }
 },
 "nbformat": 4,
 "nbformat_minor": 2
}
