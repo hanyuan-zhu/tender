{
 "cells": [
  {
   "cell_type": "code",
   "execution_count": 10,
   "metadata": {},
   "outputs": [
    {
     "ename": "ImportError",
     "evalue": "cannot import name 'WKhtmlToPdf' from 'main' (/Users/zhuhanyuan/Documents/tender/main.py)",
     "output_type": "error",
     "traceback": [
      "\u001b[0;31m---------------------------------------------------------------------------\u001b[0m",
      "\u001b[0;31mImportError\u001b[0m                               Traceback (most recent call last)",
      "Cell \u001b[0;32mIn[10], line 3\u001b[0m\n\u001b[1;32m      1\u001b[0m \u001b[38;5;28;01mfrom\u001b[39;00m \u001b[38;5;21;01mselenium\u001b[39;00m \u001b[38;5;28;01mimport\u001b[39;00m webdriver\n\u001b[1;32m      2\u001b[0m \u001b[38;5;28;01mfrom\u001b[39;00m \u001b[38;5;21;01mbs4\u001b[39;00m \u001b[38;5;28;01mimport\u001b[39;00m BeautifulSoup\n\u001b[0;32m----> 3\u001b[0m \u001b[38;5;28;01mimport\u001b[39;00m \u001b[38;5;21;01mwkhtmltopdf\u001b[39;00m\n",
      "File \u001b[0;32m~/anaconda3/envs/tender/lib/python3.11/site-packages/wkhtmltopdf/__init__.py:1\u001b[0m\n\u001b[0;32m----> 1\u001b[0m \u001b[38;5;28;01mfrom\u001b[39;00m \u001b[38;5;21;01mmain\u001b[39;00m \u001b[38;5;28;01mimport\u001b[39;00m WKhtmlToPdf, wkhtmltopdf\n\u001b[1;32m      2\u001b[0m \u001b[38;5;28;01mimport\u001b[39;00m \u001b[38;5;21;01mapi\u001b[39;00m\n",
      "\u001b[0;31mImportError\u001b[0m: cannot import name 'WKhtmlToPdf' from 'main' (/Users/zhuhanyuan/Documents/tender/main.py)"
     ]
    }
   ],
   "source": [
    "from selenium import webdriver\n",
    "from bs4 import BeautifulSoup\n",
    "import wkhtmltopdf\n"
   ]
  },
  {
   "cell_type": "code",
   "execution_count": null,
   "metadata": {},
   "outputs": [],
   "source": [
    "\n",
    "# 打开浏览器\n",
    "driver = webdriver.Chrome()\n",
    "\n",
    "# 访问目标网页\n",
    "driver.get(\"https://developers.procore.com/documentation/bim-web-viewer\")\n",
    "\n",
    "# 等待页面加载完成\n",
    "driver.implicitly_wait(10)\n",
    "\n",
    "# 获取页面内容\n",
    "html_content = driver.page_source\n",
    "\n",
    "# 关闭浏览器\n",
    "driver.quit()\n"
   ]
  },
  {
   "cell_type": "code",
   "execution_count": null,
   "metadata": {},
   "outputs": [],
   "source": [
    "\n",
    "# 解析 HTML 内容\n",
    "soup = BeautifulSoup(html_content, \"lxml\")\n",
    "\n",
    "# 提取正文内容\n",
    "content = soup.find(\"main\", class_=\"markdown-body\").text\n",
    "\n",
    "# 生成 PDF 文档\n",
    "process(content).write(\"openbigmodel_api_overview.pdf\")\n",
    "\n",
    "# 打印提示信息\n",
    "print(\"PDF 文档生成成功！\")\n"
   ]
  }
 ],
 "metadata": {
  "kernelspec": {
   "display_name": "tender",
   "language": "python",
   "name": "python3"
  },
  "language_info": {
   "codemirror_mode": {
    "name": "ipython",
    "version": 3
   },
   "file_extension": ".py",
   "mimetype": "text/x-python",
   "name": "python",
   "nbconvert_exporter": "python",
   "pygments_lexer": "ipython3",
   "version": "3.11.7"
  }
 },
 "nbformat": 4,
 "nbformat_minor": 2
}
